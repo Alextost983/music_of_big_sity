{
 "cells": [
  {
   "attachments": {},
   "cell_type": "markdown",
   "metadata": {
    "deletable": false,
    "editable": false,
    "id": "E0vqbgi9ay0H"
   },
   "source": [
    "# Яндекс Музыка"
   ]
  },
  {
   "attachments": {},
   "cell_type": "markdown",
   "metadata": {
    "deletable": false,
    "editable": false,
    "id": "VUC88oWjTJw2"
   },
   "source": [
    "Сравнение Москвы и Петербурга окружено мифами. Например:\n",
    " * Москва — мегаполис, подчинённый жёсткому ритму рабочей недели;\n",
    " * Петербург — культурная столица, со своими вкусами.\n",
    "\n",
    "На данных Яндекс Музыки  сравним поведение пользователей двух столиц.\n",
    "\n",
    "**Цель исследования** — проверить три гипотезы:\n",
    "1. Активность пользователей зависит от дня недели. Причём в Москве и Петербурге это проявляется по-разному.\n",
    "2. В понедельник утром в Москве преобладают одни жанры, а в Петербурге — другие. Так же и вечером пятницы преобладают разные жанры — в зависимости от города. \n",
    "3. Москва и Петербург предпочитают разные жанры музыки. В Москве чаще слушают поп-музыку, в Петербурге — русский рэп.\n",
    "\n",
    "**Ход исследования**\n",
    "\n",
    " Перед проверкой гипотез понадобится обзор данных. \n",
    "\n",
    "Проверим данные на ошибки и оценим их влияние на исследование. Затем, на этапе предобработки  поищем возможность исправить самые критичные ошибки данных.\n",
    " \n",
    "Таким образом, исследование пройдёт в три этапа:\n",
    " 1. Обзор данных.\n",
    " 2. Предобработка данных.\n",
    " 3. Проверка гипотез.\n",
    "\n"
   ]
  },
  {
   "attachments": {},
   "cell_type": "markdown",
   "metadata": {
    "deletable": false,
    "editable": false,
    "id": "Ml1hmfXC_Zcs"
   },
   "source": [
    "## Обзор данных\n",
    "\n",
    "Составим первое представление о данных Яндекс Музыки.\n",
    "\n",
    "\n"
   ]
  },
  {
   "attachments": {},
   "cell_type": "markdown",
   "metadata": {
    "deletable": false,
    "editable": false,
    "id": "57eAOGIz_Zcs",
    "tags": [
     "start_task"
    ]
   },
   "source": [
    "**Задание 1**\n",
    " Импортируем библиотеку."
   ]
  },
  {
   "cell_type": "code",
   "execution_count": 211,
   "metadata": {
    "deletable": false,
    "id": "AXN7PHPN_Zcs"
   },
   "outputs": [],
   "source": [
    "import pandas as pd"
   ]
  },
  {
   "attachments": {},
   "cell_type": "markdown",
   "metadata": {
    "deletable": false,
    "editable": false,
    "id": "SG23P8tt_Zcs",
    "tags": [
     "start_task"
    ]
   },
   "source": [
    "**Задание 2**\n",
    "\n",
    "Прочитаем файл `music_project.csv`  и сохраните его в переменной `df`:"
   ]
  },
  {
   "cell_type": "code",
   "execution_count": 260,
   "metadata": {
    "deletable": false,
    "id": "fFVu7vqh_Zct",
    "scrolled": true
   },
   "outputs": [],
   "source": [
    "df = pd.read_csv('music_project.csv')# чтение файла с данными и сохранение в df\n",
    "        \n",
    "\n",
    "                 "
   ]
  },
  {
   "attachments": {},
   "cell_type": "markdown",
   "metadata": {
    "deletable": false,
    "editable": false,
    "id": "rDoOMd3uTqnZ",
    "tags": [
     "start_task"
    ]
   },
   "source": [
    "**Задание 3**\n",
    "\n",
    "\n",
    "Выведем на экран первые десять строк таблицы:"
   ]
  },
  {
   "cell_type": "code",
   "execution_count": 261,
   "metadata": {
    "deletable": false,
    "id": "oWTVX3gW_Zct"
   },
   "outputs": [
    {
     "data": {
      "text/html": [
       "<div>\n",
       "<style scoped>\n",
       "    .dataframe tbody tr th:only-of-type {\n",
       "        vertical-align: middle;\n",
       "    }\n",
       "\n",
       "    .dataframe tbody tr th {\n",
       "        vertical-align: top;\n",
       "    }\n",
       "\n",
       "    .dataframe thead th {\n",
       "        text-align: right;\n",
       "    }\n",
       "</style>\n",
       "<table border=\"1\" class=\"dataframe\">\n",
       "  <thead>\n",
       "    <tr style=\"text-align: right;\">\n",
       "      <th></th>\n",
       "      <th>userID</th>\n",
       "      <th>Track</th>\n",
       "      <th>artist</th>\n",
       "      <th>genre</th>\n",
       "      <th>City</th>\n",
       "      <th>time</th>\n",
       "      <th>Day</th>\n",
       "    </tr>\n",
       "  </thead>\n",
       "  <tbody>\n",
       "    <tr>\n",
       "      <th>0</th>\n",
       "      <td>FFB692EC</td>\n",
       "      <td>Kamigata To Boots</td>\n",
       "      <td>The Mass Missile</td>\n",
       "      <td>rock</td>\n",
       "      <td>Saint-Petersburg</td>\n",
       "      <td>20:28:33</td>\n",
       "      <td>Wednesday</td>\n",
       "    </tr>\n",
       "    <tr>\n",
       "      <th>1</th>\n",
       "      <td>55204538</td>\n",
       "      <td>Delayed Because of Accident</td>\n",
       "      <td>Andreas Rönnberg</td>\n",
       "      <td>rock</td>\n",
       "      <td>Moscow</td>\n",
       "      <td>14:07:09</td>\n",
       "      <td>Friday</td>\n",
       "    </tr>\n",
       "    <tr>\n",
       "      <th>2</th>\n",
       "      <td>20EC38</td>\n",
       "      <td>Funiculì funiculà</td>\n",
       "      <td>Mario Lanza</td>\n",
       "      <td>pop</td>\n",
       "      <td>Saint-Petersburg</td>\n",
       "      <td>20:58:07</td>\n",
       "      <td>Wednesday</td>\n",
       "    </tr>\n",
       "    <tr>\n",
       "      <th>3</th>\n",
       "      <td>A3DD03C9</td>\n",
       "      <td>Dragons in the Sunset</td>\n",
       "      <td>Fire + Ice</td>\n",
       "      <td>folk</td>\n",
       "      <td>Saint-Petersburg</td>\n",
       "      <td>08:37:09</td>\n",
       "      <td>Monday</td>\n",
       "    </tr>\n",
       "    <tr>\n",
       "      <th>4</th>\n",
       "      <td>E2DC1FAE</td>\n",
       "      <td>Soul People</td>\n",
       "      <td>Space Echo</td>\n",
       "      <td>dance</td>\n",
       "      <td>Moscow</td>\n",
       "      <td>08:34:34</td>\n",
       "      <td>Monday</td>\n",
       "    </tr>\n",
       "    <tr>\n",
       "      <th>5</th>\n",
       "      <td>842029A1</td>\n",
       "      <td>Преданная</td>\n",
       "      <td>IMPERVTOR</td>\n",
       "      <td>rusrap</td>\n",
       "      <td>Saint-Petersburg</td>\n",
       "      <td>13:09:41</td>\n",
       "      <td>Friday</td>\n",
       "    </tr>\n",
       "    <tr>\n",
       "      <th>6</th>\n",
       "      <td>4CB90AA5</td>\n",
       "      <td>True</td>\n",
       "      <td>Roman Messer</td>\n",
       "      <td>dance</td>\n",
       "      <td>Moscow</td>\n",
       "      <td>13:00:07</td>\n",
       "      <td>Wednesday</td>\n",
       "    </tr>\n",
       "    <tr>\n",
       "      <th>7</th>\n",
       "      <td>F03E1C1F</td>\n",
       "      <td>Feeling This Way</td>\n",
       "      <td>Polina Griffith</td>\n",
       "      <td>dance</td>\n",
       "      <td>Moscow</td>\n",
       "      <td>20:47:49</td>\n",
       "      <td>Wednesday</td>\n",
       "    </tr>\n",
       "    <tr>\n",
       "      <th>8</th>\n",
       "      <td>8FA1D3BE</td>\n",
       "      <td>И вновь продолжается бой</td>\n",
       "      <td>NaN</td>\n",
       "      <td>ruspop</td>\n",
       "      <td>Moscow</td>\n",
       "      <td>09:17:40</td>\n",
       "      <td>Friday</td>\n",
       "    </tr>\n",
       "    <tr>\n",
       "      <th>9</th>\n",
       "      <td>E772D5C0</td>\n",
       "      <td>Pessimist</td>\n",
       "      <td>NaN</td>\n",
       "      <td>dance</td>\n",
       "      <td>Saint-Petersburg</td>\n",
       "      <td>21:20:49</td>\n",
       "      <td>Wednesday</td>\n",
       "    </tr>\n",
       "  </tbody>\n",
       "</table>\n",
       "</div>"
      ],
      "text/plain": [
       "     userID                        Track            artist   genre  \\\n",
       "0  FFB692EC            Kamigata To Boots  The Mass Missile    rock   \n",
       "1  55204538  Delayed Because of Accident  Andreas Rönnberg    rock   \n",
       "2    20EC38            Funiculì funiculà       Mario Lanza     pop   \n",
       "3  A3DD03C9        Dragons in the Sunset        Fire + Ice    folk   \n",
       "4  E2DC1FAE                  Soul People        Space Echo   dance   \n",
       "5  842029A1                    Преданная         IMPERVTOR  rusrap   \n",
       "6  4CB90AA5                         True      Roman Messer   dance   \n",
       "7  F03E1C1F             Feeling This Way   Polina Griffith   dance   \n",
       "8  8FA1D3BE     И вновь продолжается бой               NaN  ruspop   \n",
       "9  E772D5C0                    Pessimist               NaN   dance   \n",
       "\n",
       "             City        time        Day  \n",
       "0  Saint-Petersburg  20:28:33  Wednesday  \n",
       "1            Moscow  14:07:09     Friday  \n",
       "2  Saint-Petersburg  20:58:07  Wednesday  \n",
       "3  Saint-Petersburg  08:37:09     Monday  \n",
       "4            Moscow  08:34:34     Monday  \n",
       "5  Saint-Petersburg  13:09:41     Friday  \n",
       "6            Moscow  13:00:07  Wednesday  \n",
       "7            Moscow  20:47:49  Wednesday  \n",
       "8            Moscow  09:17:40     Friday  \n",
       "9  Saint-Petersburg  21:20:49  Wednesday  "
      ]
     },
     "execution_count": 261,
     "metadata": {},
     "output_type": "execute_result"
    }
   ],
   "source": [
    "df.head(10)# получение первых 10 строк таблицы df"
   ]
  },
  {
   "attachments": {},
   "cell_type": "markdown",
   "metadata": {
    "deletable": false,
    "editable": false,
    "id": "EO73Kwic_Zct",
    "tags": [
     "start_task"
    ]
   },
   "source": [
    "**Задание 4**\n",
    "\n",
    "\n",
    "Одной командой получим общую информацию о таблице c помощью метода `info()`:"
   ]
  },
  {
   "cell_type": "code",
   "execution_count": 262,
   "metadata": {
    "deletable": false,
    "id": "DSf2kIb-_Zct"
   },
   "outputs": [
    {
     "name": "stdout",
     "output_type": "stream",
     "text": [
      "<class 'pandas.core.frame.DataFrame'>\n",
      "RangeIndex: 65079 entries, 0 to 65078\n",
      "Data columns (total 7 columns):\n",
      " #   Column    Non-Null Count  Dtype \n",
      "---  ------    --------------  ----- \n",
      " 0     userID  65079 non-null  object\n",
      " 1   Track     63848 non-null  object\n",
      " 2   artist    57876 non-null  object\n",
      " 3   genre     63881 non-null  object\n",
      " 4     City    65079 non-null  object\n",
      " 5   time      65079 non-null  object\n",
      " 6   Day       65079 non-null  object\n",
      "dtypes: object(7)\n",
      "memory usage: 3.5+ MB\n"
     ]
    }
   ],
   "source": [
    "df.info()# получение общей информации о данных в таблице df"
   ]
  },
  {
   "attachments": {},
   "cell_type": "markdown",
   "metadata": {
    "deletable": false,
    "editable": false,
    "id": "TaQ2Iwbr_Zct"
   },
   "source": [
    "Итак, в таблице семь столбцов. Тип данных во всех столбцах — `object`.\n",
    "\n",
    "Согласно документации к данным:\n",
    "* `userID` — идентификатор пользователя;\n",
    "* `Track` — название трека;  \n",
    "* `artist` — имя исполнителя;\n",
    "* `genre` — название жанра;\n",
    "* `City` — город пользователя;\n",
    "* `time` — время начала прослушивания;\n",
    "* `Day` — день недели.\n",
    "\n",
    "Количество значений в столбцах различается. Значит, в данных есть пропущенные значения."
   ]
  },
  {
   "attachments": {},
   "cell_type": "markdown",
   "metadata": {
    "deletable": false,
    "editable": false,
    "id": "MCB6-dXG_Zct"
   },
   "source": [
    "**Выводы**\n",
    "\n",
    "В каждой строке таблицы — данные о прослушанном треке. Часть колонок описывает саму композицию: название, исполнителя и жанр. Остальные данные рассказывают о пользователе: из какого он города, когда он слушал музыку. \n",
    "\n",
    "Предварительно можно утверждать, что данных достаточно для проверки гипотез. Но встречаются пропуски в данных, а в названиях колонок — расхождения с хорошим стилем.\n",
    "\n",
    "Чтобы двигаться дальше, нужно устранить проблемы в данных."
   ]
  },
  {
   "attachments": {},
   "cell_type": "markdown",
   "metadata": {
    "deletable": false,
    "editable": false,
    "id": "SjYF6Ub9_Zct"
   },
   "source": [
    "## Предобработка данных\n",
    "Исправим стиль в заголовках столбцов, исключите пропуски. Затем проверим данные на дубликаты."
   ]
  },
  {
   "attachments": {},
   "cell_type": "markdown",
   "metadata": {
    "deletable": false,
    "editable": false,
    "id": "dIaKXr29_Zct",
    "tags": [
     "start_task"
    ]
   },
   "source": [
    "### Стиль заголовков\n",
    "\n",
    "**Задание 5**\n",
    "\n",
    "Выведем на экран названия столбцов:"
   ]
  },
  {
   "cell_type": "code",
   "execution_count": 267,
   "metadata": {
    "deletable": false,
    "id": "oKOTdF_Q_Zct"
   },
   "outputs": [
    {
     "data": {
      "text/plain": [
       "Index(['user_id', 'Track', 'artist', 'genre', '  City  ', 'time', 'Day'], dtype='object')"
      ]
     },
     "execution_count": 267,
     "metadata": {},
     "output_type": "execute_result"
    }
   ],
   "source": [
    "df.columns# перечень названий столбцов таблицы df"
   ]
  },
  {
   "attachments": {},
   "cell_type": "markdown",
   "metadata": {
    "deletable": false,
    "editable": false,
    "id": "zj5534cv_Zct",
    "tags": [
     "start_task"
    ]
   },
   "source": [
    "**Задание 6**\n",
    "\n",
    "\n",
    "Приведем названия в соответствие с хорошим стилем:\n",
    "* несколько слов в названии запишем в «змеином_регистре»,\n",
    "* все символы сделаем строчными,\n",
    "* устраним пробелы.\n",
    "\n",
    "Для этого переименуем колонки так:\n",
    "* `'  userID'` → `'user_id'`;\n",
    "* `'Track'` → `'track'`;\n",
    "* `'  City  '` → `'city'`;\n",
    "* `'Day'` → `'day'`."
   ]
  },
  {
   "cell_type": "code",
   "execution_count": 268,
   "metadata": {
    "deletable": false,
    "id": "ISlFqs5y_Zct"
   },
   "outputs": [],
   "source": [
    "df = df.rename(columns={'  userID':'user_id','Track':'track','  City  ':'city', 'Day':'day'})"
   ]
  },
  {
   "attachments": {},
   "cell_type": "markdown",
   "metadata": {
    "deletable": false,
    "editable": false,
    "id": "1dqbh00J_Zct",
    "tags": [
     "start_task"
    ]
   },
   "source": [
    "**Задание 7**\n",
    "\n",
    "\n",
    "Проверим результат. Для этого ещё раз выведем на экран названия столбцов:"
   ]
  },
  {
   "cell_type": "code",
   "execution_count": 285,
   "metadata": {
    "deletable": false,
    "id": "d4NOAmTW_Zct"
   },
   "outputs": [
    {
     "data": {
      "text/plain": [
       "Index(['user_id', 'track', 'artist', 'genre', 'city', 'time', 'day'], dtype='object')"
      ]
     },
     "execution_count": 285,
     "metadata": {},
     "output_type": "execute_result"
    }
   ],
   "source": [
    "df.columns# проверка результатов - перечень названий столбцов"
   ]
  },
  {
   "attachments": {},
   "cell_type": "markdown",
   "metadata": {
    "deletable": false,
    "editable": false,
    "id": "5ISfbcfY_Zct",
    "tags": [
     "start_task"
    ]
   },
   "source": [
    "### Пропуски значений\n",
    "\n",
    "**Задание 8**\n",
    "\n",
    "Сначала посчитаем, сколько в таблице пропущенных значений. Для этого достаточно двух методов `pandas`:"
   ]
  },
  {
   "cell_type": "code",
   "execution_count": 286,
   "metadata": {
    "deletable": false,
    "id": "RskX29qr_Zct"
   },
   "outputs": [
    {
     "data": {
      "text/plain": [
       "user_id       0\n",
       "track      1231\n",
       "artist     7203\n",
       "genre         0\n",
       "city          0\n",
       "time          0\n",
       "day           0\n",
       "dtype: int64"
      ]
     },
     "execution_count": 286,
     "metadata": {},
     "output_type": "execute_result"
    }
   ],
   "source": [
    "df.isna().sum()\n",
    "\n",
    "# подсчёт пропусков"
   ]
  },
  {
   "attachments": {},
   "cell_type": "markdown",
   "metadata": {
    "deletable": false,
    "editable": false,
    "id": "qubhgnlO_Zct"
   },
   "source": [
    "Не все пропущенные значения влияют на исследование. Так в `track` и `artist` пропуски не важны для вашей работы. Достаточно заменить их явными обозначениями.\n",
    "\n",
    "Но пропуски в `genre` могут помешать сравнению музыкальных вкусов в Москве и Санкт-Петербурге. На практике было бы правильно установить причину пропусков и восстановить данные.\n",
    "* заполнить и эти пропуски явными обозначениями;\n",
    "* оценить, насколько они повредят расчётам. "
   ]
  },
  {
   "attachments": {},
   "cell_type": "markdown",
   "metadata": {
    "deletable": false,
    "editable": false,
    "id": "fSv2laPA_Zct",
    "tags": [
     "start_task"
    ]
   },
   "source": [
    "**Задание 9**\n",
    "\n",
    "Заменим пропущенные значения в столбцах `track`, `artist` и `genre` на строку `'unknown'`. "
   ]
  },
  {
   "cell_type": "code",
   "execution_count": null,
   "metadata": {
    "deletable": false,
    "id": "KplB5qWs_Zct"
   },
   "outputs": [],
   "source": [
    "df['genre'] = df['genre'].fillna('unknown')\n",
    "df['track'] = df['track'].fillna('unknown')\n",
    "df['artist'] = df['artist'].fillna('unknown')\n",
    "    # Замена пропущенных значений на 'unknown'"
   ]
  },
  {
   "attachments": {},
   "cell_type": "markdown",
   "metadata": {
    "deletable": false,
    "editable": false,
    "id": "Ilsm-MZo_Zct",
    "tags": [
     "start_task"
    ]
   },
   "source": [
    "**Задание 10**\n",
    "\n",
    "Убедимся, что в таблице не осталось пропусков. Для этого ещё раз посчитаем пропущенные значения."
   ]
  },
  {
   "cell_type": "code",
   "execution_count": 288,
   "metadata": {
    "deletable": false,
    "id": "Tq4nYRX4_Zct"
   },
   "outputs": [
    {
     "data": {
      "text/plain": [
       "user_id    0\n",
       "track      0\n",
       "artist     0\n",
       "genre      0\n",
       "city       0\n",
       "time       0\n",
       "day        0\n",
       "dtype: int64"
      ]
     },
     "execution_count": 288,
     "metadata": {},
     "output_type": "execute_result"
    }
   ],
   "source": [
    "df.isna().sum()# подсчёт пропусков"
   ]
  },
  {
   "attachments": {},
   "cell_type": "markdown",
   "metadata": {
    "deletable": false,
    "editable": false,
    "id": "BWKRtBJ3_Zct",
    "tags": [
     "start_task"
    ]
   },
   "source": [
    "### Дубликаты\n",
    "\n",
    "**Задание 11**\n",
    "\n",
    "Посчитаем явные дубликаты в таблице одной командой:"
   ]
  },
  {
   "cell_type": "code",
   "execution_count": 289,
   "metadata": {
    "deletable": false,
    "id": "36eES_S0_Zct"
   },
   "outputs": [
    {
     "data": {
      "text/plain": [
       "3826"
      ]
     },
     "execution_count": 289,
     "metadata": {},
     "output_type": "execute_result"
    }
   ],
   "source": [
    "df.duplicated().sum()# подсчёт явных дубликатов"
   ]
  },
  {
   "attachments": {},
   "cell_type": "markdown",
   "metadata": {
    "deletable": false,
    "editable": false,
    "id": "Ot25h6XR_Zct",
    "tags": [
     "start_task"
    ]
   },
   "source": [
    "**Задание 12**\n",
    "\n",
    "Вызовем специальный метод `pandas`, чтобы удалить явные дубликаты:"
   ]
  },
  {
   "cell_type": "code",
   "execution_count": 290,
   "metadata": {
    "deletable": false,
    "id": "exFHq6tt_Zct"
   },
   "outputs": [],
   "source": [
    "df=df.drop_duplicates().reset_index(drop=True)# удаление явных дубликатов"
   ]
  },
  {
   "attachments": {},
   "cell_type": "markdown",
   "metadata": {
    "deletable": false,
    "editable": false,
    "id": "Im2YwBEG_Zct",
    "tags": [
     "start_task"
    ]
   },
   "source": [
    "**Задание 13**\n",
    "\n",
    "Ещё раз посчитаем явные дубликаты в таблице — убедимся, что полностью от них избавились:"
   ]
  },
  {
   "cell_type": "code",
   "execution_count": 291,
   "metadata": {
    "deletable": false,
    "id": "-8PuNWQ0_Zct"
   },
   "outputs": [
    {
     "data": {
      "text/plain": [
       "0"
      ]
     },
     "execution_count": 291,
     "metadata": {},
     "output_type": "execute_result"
    }
   ],
   "source": [
    "df.duplicated().sum()# проверка на отсутствие дубликатов"
   ]
  },
  {
   "attachments": {},
   "cell_type": "markdown",
   "metadata": {
    "deletable": false,
    "editable": false,
    "id": "QlFBsxAr_Zct"
   },
   "source": [
    "Теперь избавимся от неявных дубликатов в колонке `genre`. Например, название одного и того же жанра может быть записано немного по-разному. Такие ошибки тоже повлияют на результат исследования."
   ]
  },
  {
   "attachments": {},
   "cell_type": "markdown",
   "metadata": {
    "deletable": false,
    "editable": false,
    "id": "eSjWwsOh_Zct",
    "tags": [
     "start_task"
    ]
   },
   "source": [
    "**Задание 14**\n",
    "\n",
    "Выведем на экран список уникальных названий жанров, отсортированный в алфавитном порядке. Для этого:\n",
    "1. извлечем нужный столбец датафрейма; \n",
    "2. применим к нему метод сортировки;\n",
    "3. для отсортированного столбца вызовим метод, который вернёт уникальные значения из столбца."
   ]
  },
  {
   "cell_type": "code",
   "execution_count": 292,
   "metadata": {
    "deletable": false,
    "id": "JIUcqzZN_Zct"
   },
   "outputs": [
    {
     "data": {
      "text/plain": [
       "array(['acid', 'acoustic', 'action', 'adult', 'africa', 'afrikaans',\n",
       "       'alternative', 'alternativepunk', 'ambient', 'americana',\n",
       "       'animated', 'anime', 'arabesk', 'arabic', 'arena',\n",
       "       'argentinetango', 'art', 'audiobook', 'author', 'avantgarde',\n",
       "       'axé', 'baile', 'balkan', 'beats', 'bigroom', 'black', 'bluegrass',\n",
       "       'blues', 'bollywood', 'bossa', 'brazilian', 'breakbeat', 'breaks',\n",
       "       'broadway', 'cantautori', 'cantopop', 'canzone', 'caribbean',\n",
       "       'caucasian', 'celtic', 'chamber', 'chanson', 'children', 'chill',\n",
       "       'chinese', 'choral', 'christian', 'christmas', 'classical',\n",
       "       'classicmetal', 'club', 'colombian', 'comedy', 'conjazz',\n",
       "       'contemporary', 'country', 'cuban', 'dance', 'dancehall',\n",
       "       'dancepop', 'dark', 'death', 'deep', 'deutschrock', 'deutschspr',\n",
       "       'dirty', 'disco', 'dnb', 'documentary', 'downbeat', 'downtempo',\n",
       "       'drum', 'dub', 'dubstep', 'eastern', 'easy', 'electronic',\n",
       "       'electropop', 'emo', 'entehno', 'epicmetal', 'estrada', 'ethnic',\n",
       "       'eurofolk', 'european', 'experimental', 'extrememetal', 'fado',\n",
       "       'fairytail', 'film', 'fitness', 'flamenco', 'folk', 'folklore',\n",
       "       'folkmetal', 'folkrock', 'folktronica', 'forró', 'frankreich',\n",
       "       'französisch', 'french', 'funk', 'future', 'gangsta', 'garage',\n",
       "       'german', 'ghazal', 'gitarre', 'glitch', 'gospel', 'gothic',\n",
       "       'grime', 'grunge', 'gypsy', 'handsup', \"hard'n'heavy\", 'hardcore',\n",
       "       'hardstyle', 'hardtechno', 'hiphop', 'historisch', 'holiday',\n",
       "       'horror', 'house', 'hymn', 'idm', 'independent', 'indian', 'indie',\n",
       "       'indipop', 'industrial', 'inspirational', 'instrumental',\n",
       "       'international', 'irish', 'jam', 'japanese', 'jazz', 'jewish',\n",
       "       'jpop', 'jungle', 'k-pop', 'karadeniz', 'karaoke', 'kayokyoku',\n",
       "       'korean', 'laiko', 'latin', 'latino', 'leftfield', 'local',\n",
       "       'lounge', 'loungeelectronic', 'lovers', 'malaysian', 'mandopop',\n",
       "       'marschmusik', 'meditative', 'mediterranean', 'melodic', 'metal',\n",
       "       'metalcore', 'mexican', 'middle', 'minimal', 'miscellaneous',\n",
       "       'modern', 'mood', 'mpb', 'muslim', 'native', 'neoklassik', 'neue',\n",
       "       'new', 'newage', 'newwave', 'nu', 'nujazz', 'numetal', 'oceania',\n",
       "       'old', 'opera', 'orchestral', 'other', 'piano', 'podcasts', 'pop',\n",
       "       'popdance', 'popelectronic', 'popeurodance', 'poprussian', 'post',\n",
       "       'posthardcore', 'postrock', 'power', 'progmetal', 'progressive',\n",
       "       'psychedelic', 'punjabi', 'punk', 'quebecois', 'ragga', 'ram',\n",
       "       'rancheras', 'rap', 'rave', 'reggae', 'reggaeton', 'regional',\n",
       "       'relax', 'religious', 'retro', 'rhythm', 'rnb', 'rnr', 'rock',\n",
       "       'rockabilly', 'rockalternative', 'rockindie', 'rockother',\n",
       "       'romance', 'roots', 'ruspop', 'rusrap', 'rusrock', 'russian',\n",
       "       'salsa', 'samba', 'scenic', 'schlager', 'self', 'sertanejo',\n",
       "       'shanson', 'shoegazing', 'showtunes', 'singer', 'ska', 'skarock',\n",
       "       'slow', 'smooth', 'soft', 'soul', 'soulful', 'sound', 'soundtrack',\n",
       "       'southern', 'specialty', 'speech', 'spiritual', 'sport',\n",
       "       'stonerrock', 'surf', 'swing', 'synthpop', 'synthrock',\n",
       "       'sängerportrait', 'tango', 'tanzorchester', 'taraftar', 'tatar',\n",
       "       'tech', 'techno', 'teen', 'thrash', 'top', 'traditional',\n",
       "       'tradjazz', 'trance', 'tribal', 'trip', 'triphop', 'tropical',\n",
       "       'türk', 'türkçe', 'ukrrock', 'unknown', 'urban', 'uzbek',\n",
       "       'variété', 'vi', 'videogame', 'vocal', 'western', 'world',\n",
       "       'worldbeat', 'ïîï', 'электроника'], dtype=object)"
      ]
     },
     "execution_count": 292,
     "metadata": {},
     "output_type": "execute_result"
    }
   ],
   "source": [
    "df['genre'].sort_values().unique()# Просмотр уникальных названий жанров"
   ]
  },
  {
   "attachments": {},
   "cell_type": "markdown",
   "metadata": {
    "deletable": false,
    "editable": false,
    "id": "qej-Qmuo_Zct",
    "tags": [
     "start_task"
    ]
   },
   "source": [
    "**Задание 15**\n",
    "\n",
    "Просмотрим список и найдем неявные дубликаты названия `hiphop`. Это могут быть названия с ошибками или альтернативные названия того же жанра.\n",
    "\n",
    "Видим следующие неявные дубликаты:\n",
    "* *hip*,\n",
    "* *hop*,\n",
    "* *hip-hop*.\n",
    "\n",
    "Чтобы очистить от них таблицу используем метод `replace()` с двумя аргументами: списком строк-дубликатов (включащий *hip*, *hop* и *hip-hop*) и строкой с правильным значением. Исправим колонку `genre` в таблице `df`: заменим каждое значение из списка дубликатов на верное. Вместо `hip`, `hop` и `hip-hop` в таблице должно быть значение `hiphop`:"
   ]
  },
  {
   "cell_type": "code",
   "execution_count": null,
   "metadata": {},
   "outputs": [],
   "source": [
    "df['genre'] = df['genre'].replace('hip','hiphop')\n",
    "df['genre'] = df['genre'].replace('hop','hiphop')\n",
    "df['genre'] = df['genre'].replace('hip-hop','hiphop')# Устранение неявных дубликатов"
   ]
  },
  {
   "attachments": {},
   "cell_type": "markdown",
   "metadata": {
    "deletable": false,
    "editable": false,
    "id": "zQKF16_RG15m",
    "tags": [
     "start_task"
    ]
   },
   "source": [
    "**Задание 16**\n",
    "\n",
    "Проверим, что заменили неправильные названия:\n",
    "\n",
    "*   hip,\n",
    "*   hop,\n",
    "*   hip-hop.\n",
    "\n",
    "Выведем отсортированный список уникальных значений столбца `genre`:"
   ]
  },
  {
   "cell_type": "code",
   "execution_count": 294,
   "metadata": {
    "deletable": false,
    "id": "wvixALnFG15m"
   },
   "outputs": [
    {
     "data": {
      "text/plain": [
       "array(['acid', 'acoustic', 'action', 'adult', 'africa', 'afrikaans',\n",
       "       'alternative', 'alternativepunk', 'ambient', 'americana',\n",
       "       'animated', 'anime', 'arabesk', 'arabic', 'arena',\n",
       "       'argentinetango', 'art', 'audiobook', 'author', 'avantgarde',\n",
       "       'axé', 'baile', 'balkan', 'beats', 'bigroom', 'black', 'bluegrass',\n",
       "       'blues', 'bollywood', 'bossa', 'brazilian', 'breakbeat', 'breaks',\n",
       "       'broadway', 'cantautori', 'cantopop', 'canzone', 'caribbean',\n",
       "       'caucasian', 'celtic', 'chamber', 'chanson', 'children', 'chill',\n",
       "       'chinese', 'choral', 'christian', 'christmas', 'classical',\n",
       "       'classicmetal', 'club', 'colombian', 'comedy', 'conjazz',\n",
       "       'contemporary', 'country', 'cuban', 'dance', 'dancehall',\n",
       "       'dancepop', 'dark', 'death', 'deep', 'deutschrock', 'deutschspr',\n",
       "       'dirty', 'disco', 'dnb', 'documentary', 'downbeat', 'downtempo',\n",
       "       'drum', 'dub', 'dubstep', 'eastern', 'easy', 'electronic',\n",
       "       'electropop', 'emo', 'entehno', 'epicmetal', 'estrada', 'ethnic',\n",
       "       'eurofolk', 'european', 'experimental', 'extrememetal', 'fado',\n",
       "       'fairytail', 'film', 'fitness', 'flamenco', 'folk', 'folklore',\n",
       "       'folkmetal', 'folkrock', 'folktronica', 'forró', 'frankreich',\n",
       "       'französisch', 'french', 'funk', 'future', 'gangsta', 'garage',\n",
       "       'german', 'ghazal', 'gitarre', 'glitch', 'gospel', 'gothic',\n",
       "       'grime', 'grunge', 'gypsy', 'handsup', \"hard'n'heavy\", 'hardcore',\n",
       "       'hardstyle', 'hardtechno', 'hiphop', 'historisch', 'holiday',\n",
       "       'horror', 'house', 'hymn', 'idm', 'independent', 'indian', 'indie',\n",
       "       'indipop', 'industrial', 'inspirational', 'instrumental',\n",
       "       'international', 'irish', 'jam', 'japanese', 'jazz', 'jewish',\n",
       "       'jpop', 'jungle', 'k-pop', 'karadeniz', 'karaoke', 'kayokyoku',\n",
       "       'korean', 'laiko', 'latin', 'latino', 'leftfield', 'local',\n",
       "       'lounge', 'loungeelectronic', 'lovers', 'malaysian', 'mandopop',\n",
       "       'marschmusik', 'meditative', 'mediterranean', 'melodic', 'metal',\n",
       "       'metalcore', 'mexican', 'middle', 'minimal', 'miscellaneous',\n",
       "       'modern', 'mood', 'mpb', 'muslim', 'native', 'neoklassik', 'neue',\n",
       "       'new', 'newage', 'newwave', 'nu', 'nujazz', 'numetal', 'oceania',\n",
       "       'old', 'opera', 'orchestral', 'other', 'piano', 'podcasts', 'pop',\n",
       "       'popdance', 'popelectronic', 'popeurodance', 'poprussian', 'post',\n",
       "       'posthardcore', 'postrock', 'power', 'progmetal', 'progressive',\n",
       "       'psychedelic', 'punjabi', 'punk', 'quebecois', 'ragga', 'ram',\n",
       "       'rancheras', 'rap', 'rave', 'reggae', 'reggaeton', 'regional',\n",
       "       'relax', 'religious', 'retro', 'rhythm', 'rnb', 'rnr', 'rock',\n",
       "       'rockabilly', 'rockalternative', 'rockindie', 'rockother',\n",
       "       'romance', 'roots', 'ruspop', 'rusrap', 'rusrock', 'russian',\n",
       "       'salsa', 'samba', 'scenic', 'schlager', 'self', 'sertanejo',\n",
       "       'shanson', 'shoegazing', 'showtunes', 'singer', 'ska', 'skarock',\n",
       "       'slow', 'smooth', 'soft', 'soul', 'soulful', 'sound', 'soundtrack',\n",
       "       'southern', 'specialty', 'speech', 'spiritual', 'sport',\n",
       "       'stonerrock', 'surf', 'swing', 'synthpop', 'synthrock',\n",
       "       'sängerportrait', 'tango', 'tanzorchester', 'taraftar', 'tatar',\n",
       "       'tech', 'techno', 'teen', 'thrash', 'top', 'traditional',\n",
       "       'tradjazz', 'trance', 'tribal', 'trip', 'triphop', 'tropical',\n",
       "       'türk', 'türkçe', 'ukrrock', 'unknown', 'urban', 'uzbek',\n",
       "       'variété', 'vi', 'videogame', 'vocal', 'western', 'world',\n",
       "       'worldbeat', 'ïîï', 'электроника'], dtype=object)"
      ]
     },
     "execution_count": 294,
     "metadata": {},
     "output_type": "execute_result"
    }
   ],
   "source": [
    "df['genre'].sort_values().unique()# Проверка на неявные дубликаты"
   ]
  },
  {
   "attachments": {},
   "cell_type": "markdown",
   "metadata": {
    "deletable": false,
    "editable": false,
    "id": "jz6a9-7HQUDd"
   },
   "source": [
    "**Выводы**\n",
    "\n",
    "Предобработка обнаружила три проблемы в данных:\n",
    "\n",
    "- нарушения в стиле заголовков,\n",
    "- пропущенные значения,\n",
    "- дубликаты — явные и неявные.\n",
    "\n",
    "Исправили заголовки, чтобы упростить работу с таблицей. Без дубликатов исследование станет более точным.\n",
    "\n",
    "Пропущенные значения вы заменили на `'unknown'`. Ещё предстоит увидеть, не повредят ли исследованию пропуски в колонке `genre`.\n",
    "\n",
    "Теперь можно перейти к проверке гипотез. "
   ]
  },
  {
   "attachments": {},
   "cell_type": "markdown",
   "metadata": {
    "deletable": false,
    "editable": false,
    "id": "WttZHXH0SqKk"
   },
   "source": [
    "## Проверка гипотез"
   ]
  },
  {
   "attachments": {},
   "cell_type": "markdown",
   "metadata": {
    "deletable": false,
    "editable": false,
    "id": "Im936VVi_Zcu"
   },
   "source": [
    "### Сравнение поведения пользователей двух столиц"
   ]
  },
  {
   "attachments": {},
   "cell_type": "markdown",
   "metadata": {
    "deletable": false,
    "editable": false,
    "id": "nwt_MuaL_Zcu"
   },
   "source": [
    "Первая гипотеза утверждает, что пользователи по-разному слушают музыку в Москве и Санкт-Петербурге. Проверьте это предположение по данным о трёх днях недели — понедельнике, среде и пятнице. Для этого:\n",
    "\n",
    "* Разделим пользователей Москвы и Санкт-Петербурга.\n",
    "* Сравним, сколько треков послушала каждая группа пользователей в понедельник, среду и пятницу.\n"
   ]
  },
  {
   "attachments": {},
   "cell_type": "markdown",
   "metadata": {
    "deletable": false,
    "editable": false,
    "id": "8Dw_YMmT_Zcu",
    "tags": [
     "start_task"
    ]
   },
   "source": [
    "**Задание 17**\n",
    "\n",
    "Для тренировки сначала выполним каждый из расчётов по отдельности. \n",
    "\n",
    "Оценим активность пользователей в каждом городе. Сгруппируем данные по городу и посчитаем прослушивания в каждой группе.\n",
    "\n"
   ]
  },
  {
   "cell_type": "code",
   "execution_count": 295,
   "metadata": {
    "deletable": false,
    "id": "0_Qs96oh_Zcu"
   },
   "outputs": [
    {
     "data": {
      "text/plain": [
       "city\n",
       "Moscow              42741\n",
       "Saint-Petersburg    18512\n",
       "Name: genre, dtype: int64"
      ]
     },
     "execution_count": 295,
     "metadata": {},
     "output_type": "execute_result"
    }
   ],
   "source": [
    "\n",
    "df.groupby('city')['genre'].count()# Подсчёт прослушиваний в каждом городе"
   ]
  },
  {
   "attachments": {},
   "cell_type": "markdown",
   "metadata": {
    "deletable": false,
    "editable": false,
    "id": "dzli3w8o_Zcu",
    "tags": [
     "start_task"
    ]
   },
   "source": [
    "В Москве прослушиваний больше, чем в Петербурге. Из этого не следует, что московские пользователи чаще слушают музыку. Просто самих пользователей в Москве больше.\n",
    "\n",
    "**Задание 18**\n",
    "\n",
    "Теперь сгруппируем данные по дню недели и посчитаем прослушивания в понедельник, среду и пятницу. Учтите, что в данных есть информация о прослушиваниях только за эти дни.\n"
   ]
  },
  {
   "cell_type": "code",
   "execution_count": 296,
   "metadata": {
    "deletable": false,
    "id": "uZMKjiJz_Zcu"
   },
   "outputs": [
    {
     "data": {
      "text/plain": [
       "day\n",
       "Friday       21840\n",
       "Monday       21354\n",
       "Wednesday    18059\n",
       "Name: genre, dtype: int64"
      ]
     },
     "execution_count": 296,
     "metadata": {},
     "output_type": "execute_result"
    }
   ],
   "source": [
    "df.groupby('day')['genre'].count()# Подсчёт прослушиваний в каждый из трёх дней"
   ]
  },
  {
   "attachments": {},
   "cell_type": "markdown",
   "metadata": {
    "deletable": false,
    "editable": false,
    "id": "cC2tNrlL_Zcu"
   },
   "source": [
    "В среднем пользователи из двух городов менее активны по средам. Но картина может измениться, если рассмотреть каждый город в отдельности."
   ]
  },
  {
   "attachments": {},
   "cell_type": "markdown",
   "metadata": {
    "deletable": false,
    "editable": false,
    "id": "POzs8bGa_Zcu",
    "tags": [
     "start_task"
    ]
   },
   "source": [
    "**Задание 19**\n",
    "\n",
    "\n",
    "Мы видили, как работает группировка по городу и по дням недели. Теперь напишите функцию, которая объединит два эти расчёта.\n",
    "\n",
    "Создадим функцию `number_tracks()`, которая посчитает прослушивания для заданного дня и города. Ей понадобятся два параметра:\n",
    "* день недели,\n",
    "* название города.\n",
    "\n",
    "В функции сохраним в переменную строки исходной таблицы, у которых значение:\n",
    "  * в колонке `day` равно параметру `day`,\n",
    "  * в колонке `city` равно параметру `city`.\n",
    "\n",
    "Для этого применим последовательную фильтрацию с логической индексацией.\n",
    "\n",
    "Затем посчитаем значения в столбце `user_id` получившейся таблицы. Результат сохраним в новую переменную. Вернем эту переменную из функции."
   ]
  },
  {
   "cell_type": "code",
   "execution_count": 297,
   "metadata": {
    "deletable": false,
    "id": "Nz3GdQB1_Zcu"
   },
   "outputs": [],
   "source": [
    "def number_tracks(weekday, city):                                   #<создание функции number_tracks()>\n",
    "                                                              # Объявляется функция с двумя параметрами: day, city.\n",
    "    track_list = df[(df['day']==weekday) & (df['city']==city)]  # В переменной track_list сохраняются те строки таблицы df, для которых \n",
    "                                                              # значение в столбце 'day' равно параметру day и одновременно значение\n",
    "                                                              # в столбце 'city' равно параметру city (используйте последовательную фильтрацию\n",
    "                                                              # с помощью логической индексации или сложные логические выражения в одну строку, если вы уже знакомы с ними).\n",
    "                                                            # В переменной track_list_count сохраняется число значений столбца 'user_id',\n",
    "    track_list_count = track_list['user_id'].count()\n",
    "    return track_list_count                                     # рассчитанное методом count() для таблицы track_list.\n",
    "                                                              # Функция возвращает число - значение track_list_count.\n",
    "\n",
    "# Функция для подсчёта прослушиваний для конкретного города и дня.\n",
    "# С помощью последовательной фильтрации с логической индексацией она \n",
    "# сначала получит из исходной таблицы строки с нужным днём,\n",
    "# затем из результата отфильтрует строки с нужным городом,\n",
    "# методом count() посчитает количество значений в колонке user_id. \n",
    "# Это количество функция вернёт в качестве результата"
   ]
  },
  {
   "attachments": {},
   "cell_type": "markdown",
   "metadata": {
    "deletable": false,
    "editable": false,
    "id": "ytf7xFrFJQ2r",
    "tags": [
     "start_task"
    ]
   },
   "source": [
    "**Задание 20**\n",
    "\n",
    "Вызовем `number_tracks()` шесть раз, меняя значение параметров — так, чтобы получить данные для каждого города в каждый из трёх дней."
   ]
  },
  {
   "cell_type": "code",
   "execution_count": 298,
   "metadata": {
    "deletable": false,
    "id": "rJcRATNQ_Zcu",
    "scrolled": true
   },
   "outputs": [
    {
     "data": {
      "text/plain": [
       "15740"
      ]
     },
     "execution_count": 298,
     "metadata": {},
     "output_type": "execute_result"
    }
   ],
   "source": [
    "number_tracks('Monday', 'Moscow')# количество прослушиваний в Москве по понедельникам\n"
   ]
  },
  {
   "cell_type": "code",
   "execution_count": 299,
   "metadata": {
    "deletable": false,
    "id": "hq_ncZ5T_Zcu"
   },
   "outputs": [
    {
     "data": {
      "text/plain": [
       "5614"
      ]
     },
     "execution_count": 299,
     "metadata": {},
     "output_type": "execute_result"
    }
   ],
   "source": [
    "number_tracks('Monday', 'Saint-Petersburg')# количество прослушиваний в Санкт-Петербурге по понедельникам"
   ]
  },
  {
   "cell_type": "code",
   "execution_count": 300,
   "metadata": {
    "deletable": false,
    "id": "_NTy2VPU_Zcu"
   },
   "outputs": [
    {
     "data": {
      "text/plain": [
       "11056"
      ]
     },
     "execution_count": 300,
     "metadata": {},
     "output_type": "execute_result"
    }
   ],
   "source": [
    "number_tracks('Wednesday', 'Moscow')# количество прослушиваний в Москве по средам"
   ]
  },
  {
   "cell_type": "code",
   "execution_count": 301,
   "metadata": {
    "deletable": false,
    "id": "j2y3TAwo_Zcu"
   },
   "outputs": [
    {
     "data": {
      "text/plain": [
       "7003"
      ]
     },
     "execution_count": 301,
     "metadata": {},
     "output_type": "execute_result"
    }
   ],
   "source": [
    "number_tracks('Wednesday', 'Saint-Petersburg')# количество прослушиваний в Санкт-Петербурге по средам"
   ]
  },
  {
   "cell_type": "code",
   "execution_count": 302,
   "metadata": {
    "deletable": false,
    "id": "vYDw5u_K_Zcu"
   },
   "outputs": [
    {
     "data": {
      "text/plain": [
       "15945"
      ]
     },
     "execution_count": 302,
     "metadata": {},
     "output_type": "execute_result"
    }
   ],
   "source": [
    "number_tracks('Friday', 'Moscow')# количество прослушиваний в Москве по пятницам"
   ]
  },
  {
   "cell_type": "code",
   "execution_count": 303,
   "metadata": {
    "deletable": false,
    "id": "8_yzFtW3_Zcu"
   },
   "outputs": [
    {
     "data": {
      "text/plain": [
       "5895"
      ]
     },
     "execution_count": 303,
     "metadata": {},
     "output_type": "execute_result"
    }
   ],
   "source": [
    "number_tracks('Friday', 'Saint-Petersburg')# количество прослушиваний в Санкт-Петербурге по пятницам"
   ]
  },
  {
   "attachments": {},
   "cell_type": "markdown",
   "metadata": {
    "deletable": false,
    "editable": false,
    "id": "7QXffbO-_Zcu",
    "tags": [
     "start_task"
    ]
   },
   "source": [
    "**Задание 21**\n",
    "\n",
    "Создадим c помощью конструктора `pd.DataFrame` таблицу, где\n",
    "* названия колонок — `['city', 'monday', 'wednesday', 'friday']`;\n",
    "* данные — результаты, которые вы получили с помощью `number_tracks`."
   ]
  },
  {
   "cell_type": "code",
   "execution_count": 304,
   "metadata": {
    "deletable": false,
    "id": "APAcLpOr_Zcu",
    "scrolled": true
   },
   "outputs": [
    {
     "data": {
      "text/html": [
       "<div>\n",
       "<style scoped>\n",
       "    .dataframe tbody tr th:only-of-type {\n",
       "        vertical-align: middle;\n",
       "    }\n",
       "\n",
       "    .dataframe tbody tr th {\n",
       "        vertical-align: top;\n",
       "    }\n",
       "\n",
       "    .dataframe thead th {\n",
       "        text-align: right;\n",
       "    }\n",
       "</style>\n",
       "<table border=\"1\" class=\"dataframe\">\n",
       "  <thead>\n",
       "    <tr style=\"text-align: right;\">\n",
       "      <th></th>\n",
       "      <th>city</th>\n",
       "      <th>monday</th>\n",
       "      <th>wednesday</th>\n",
       "      <th>friday</th>\n",
       "    </tr>\n",
       "  </thead>\n",
       "  <tbody>\n",
       "    <tr>\n",
       "      <th>0</th>\n",
       "      <td>Moscow</td>\n",
       "      <td>15740</td>\n",
       "      <td>11056</td>\n",
       "      <td>15945</td>\n",
       "    </tr>\n",
       "    <tr>\n",
       "      <th>1</th>\n",
       "      <td>Saint-Petersburg</td>\n",
       "      <td>7003</td>\n",
       "      <td>6913</td>\n",
       "      <td>5895</td>\n",
       "    </tr>\n",
       "  </tbody>\n",
       "</table>\n",
       "</div>"
      ],
      "text/plain": [
       "               city  monday  wednesday  friday\n",
       "0            Moscow   15740      11056   15945\n",
       "1  Saint-Petersburg    7003       6913    5895"
      ]
     },
     "execution_count": 304,
     "metadata": {},
     "output_type": "execute_result"
    }
   ],
   "source": [
    "data = [['Moscow', 15740, 11056, 15945],\n",
    "       ['Saint-Petersburg', 7003, 6913, 5895]]\n",
    "columns = ['city','monday','wednesday','friday']\n",
    "table = pd.DataFrame(data = data, columns = columns)\n",
    "table"
   ]
  },
  {
   "attachments": {},
   "cell_type": "markdown",
   "metadata": {
    "deletable": false,
    "editable": false,
    "id": "-EgPIHYu_Zcu"
   },
   "source": [
    "**Выводы**\n",
    "\n",
    "Данные показывают разницу поведения пользователей:\n",
    "\n",
    "- В Москве пик прослушиваний приходится на понедельник и пятницу, а в среду заметен спад.\n",
    "- В Петербурге, наоборот, больше слушают музыку по средам. Активность в понедельник и пятницу здесь почти в равной мере уступает среде.\n",
    "\n",
    "Значит, данные говорят в пользу первой гипотезы."
   ]
  },
  {
   "attachments": {},
   "cell_type": "markdown",
   "metadata": {
    "deletable": false,
    "editable": false,
    "id": "atZAxtq4_Zcu"
   },
   "source": [
    "### Музыка в начале и в конце недели"
   ]
  },
  {
   "attachments": {},
   "cell_type": "markdown",
   "metadata": {
    "deletable": false,
    "editable": false,
    "id": "eXrQqXFH_Zcu"
   },
   "source": [
    "Согласно второй гипотезе, утром в понедельник в Москве преобладают одни жанры, а в Петербурге — другие. Так же и вечером пятницы преобладают разные жанры — в зависимости от города."
   ]
  },
  {
   "attachments": {},
   "cell_type": "markdown",
   "metadata": {
    "deletable": false,
    "editable": false,
    "id": "S8UcW6Hw_Zcu",
    "tags": [
     "start_task"
    ]
   },
   "source": [
    "**Задание 22**\n",
    "\n",
    "Сохраним таблицы с данными в две переменные:\n",
    "* по Москве — в `moscow_general`;\n",
    "* по Санкт-Петербургу — в `spb_general`."
   ]
  },
  {
   "cell_type": "code",
   "execution_count": 305,
   "metadata": {
    "deletable": false,
    "id": "qeaFfM_P_Zcu"
   },
   "outputs": [],
   "source": [
    "moscow_general = df[df['city']=='Moscow']# получение таблицы moscow_general из тех строк таблицы df, \n",
    "                                                # для которых значение в столбце 'city' равно 'Moscow'\n"
   ]
  },
  {
   "cell_type": "code",
   "execution_count": 306,
   "metadata": {
    "deletable": false,
    "id": "ORaVRKto_Zcu"
   },
   "outputs": [],
   "source": [
    "spb_general = df[df['city']=='Saint-Petersburg']# получение таблицы spb_general из тех строк таблицы df,\n",
    "# для которых значение в столбце 'city' равно 'Saint-Petersburg'\n"
   ]
  },
  {
   "attachments": {},
   "cell_type": "markdown",
   "metadata": {
    "deletable": false,
    "editable": false,
    "id": "MEJV-CX2_Zcu",
    "tags": [
     "start_task"
    ]
   },
   "source": [
    "**Задание 23**\n",
    "\n",
    "Создадим функцию `genre_weekday()` с четырьмя параметрами:\n",
    "* таблица (датафрейм) с данными,\n",
    "* день недели,\n",
    "* начальная временная метка в формате 'hh:mm', \n",
    "* последняя временная метка в формате 'hh:mm'.\n",
    "\n",
    "Функция должна вернуть информацию о топ-10 жанров тех треков, которые прослушивали в указанный день, в промежутке между двумя отметками времени."
   ]
  },
  {
   "cell_type": "code",
   "execution_count": 311,
   "metadata": {
    "deletable": false,
    "id": "laJT9BYl_Zcu"
   },
   "outputs": [],
   "source": [
    "def genre_weekday(table, day, time1, time2,):# Объявление функции genre_weekday() с параметрами table, day, time1, time2,\n",
    "                                            # которая возвращает информацию о самых популярных жанрах в указанный день в\n",
    "                                            # заданное время:\n",
    "                                            # 1) в переменную genre_df сохраняются те строки переданного датафрейма table, для\n",
    "    genre_df = df[(df['day']==day) & (df['time']>time1)& (df['time']<time2)]    #    которых одновременно:\n",
    "                                                     #    - значение в столбце day равно значению аргумента day\n",
    "                                                      #    - значение в столбце time больше значения аргумента time1\n",
    "                                                    #    - значение в столбце time меньше значения аргумента time2\n",
    "                                                 #    Используйте последовательную фильтрацию с помощью логической индексации.\n",
    "    genre_df_count = genre_df.groupby('genre')['genre'].count()\n",
    "                                                  # 2) сгруппировать датафрейм genre_df по столбцу genre, взять один из его\n",
    "                                                  #    столбцов и посчитать методом count() количество записей для каждого из\n",
    "                                                  #    присутствующих жанров, получившийся Series записать в переменную\n",
    "                                                  #    genre_df_count\n",
    "    genre_df_sorted = genre_df_count.sort_values(ascending = False).head(10)# 3) отсортировать genre_df_count по убыванию встречаемости и сохранить\n",
    "                                                  #    в переменную genre_df_sorted\n",
    "    return genre_df_sorted                  # 4) вернуть Series из 10 первых значений genre_df_sorted, это будут топ-10\n",
    "                                                  #    популярных жанров (в указанный день, в заданное время)\n",
    "\n",
    "def genre_weekday(df, day, time1, time2):\n",
    "    # последовательная фильтрация\n",
    "                                          # оставляем в genre_df только те строки df, у которых день равен day\n",
    "                                          # ваш код здесь\n",
    "                                          # оставляем в genre_df только те строки genre_df, у которых время меньше time2\n",
    "                                          # ваш код здесь\n",
    "                                          # оставляем в genre_df только те строки genre_df, у которых время больше time1\n",
    "    genre_df = df[(df['day']==day)&(df['time']<time2)&(df['time']>time1)]# ваш код здесь\n",
    "                                          # сгруппируем отфильтрованный датафрейм по столбцу с названиями жанров, возьмём столбец genre и посчитаем кол-во строк для каждого жанра методом count()\n",
    "    genre_df_grouped = genre_df.groupby('genre')['genre'].count().sort_values(ascending = False).head(10)# ваш код здесь\n",
    "    # отсортируем результат по убыванию (чтобы в начале Series оказались самые популярные жанры)\n",
    "     # ваш код здесь\n",
    "    # вернём Series с 10 самыми популярными жанрами в указанный отрезок времени заданного дня\n",
    "    return genre_df_grouped"
   ]
  },
  {
   "attachments": {},
   "cell_type": "markdown",
   "metadata": {
    "deletable": false,
    "editable": false,
    "id": "la2s2_PF_Zcu",
    "tags": [
     "start_task"
    ]
   },
   "source": [
    "**Задание 24**\n",
    "\n",
    "\n",
    "Cравним результаты функции `genre_weekday()` для Москвы и Санкт-Петербурга в понедельник утром (с 7:00 до 11:00) и в пятницу вечером (с 17:00 до 23:00):"
   ]
  },
  {
   "cell_type": "code",
   "execution_count": 318,
   "metadata": {
    "deletable": false,
    "id": "yz7itPUQ_Zcu"
   },
   "outputs": [
    {
     "data": {
      "text/plain": [
       "genre\n",
       "pop            781\n",
       "dance          549\n",
       "electronic     480\n",
       "rock           474\n",
       "hiphop         286\n",
       "ruspop         186\n",
       "world          181\n",
       "rusrap         175\n",
       "alternative    164\n",
       "unknown        161\n",
       "Name: genre, dtype: int64"
      ]
     },
     "execution_count": 318,
     "metadata": {},
     "output_type": "execute_result"
    }
   ],
   "source": [
    "genre_weekday(moscow_general, 'Monday', '07:00', '11:00')# вызов функции для утра понедельника в Москве (вместо df — таблица moscow_general)\n",
    "# объекты, хранящие время, являются строками и сравниваются как строки\n",
    "# пример вызова: genre_weekday(moscow_general, 'Monday', '07:00', '11:00')"
   ]
  },
  {
   "cell_type": "code",
   "execution_count": 313,
   "metadata": {
    "deletable": false,
    "id": "kwUcHPdy_Zcu"
   },
   "outputs": [
    {
     "data": {
      "text/plain": [
       "genre\n",
       "pop            218\n",
       "dance          182\n",
       "rock           162\n",
       "electronic     147\n",
       "hiphop          80\n",
       "ruspop          64\n",
       "alternative     58\n",
       "rusrap          55\n",
       "jazz            44\n",
       "classical       40\n",
       "Name: genre, dtype: int64"
      ]
     },
     "execution_count": 313,
     "metadata": {},
     "output_type": "execute_result"
    }
   ],
   "source": [
    "genre_weekday(spb_general, 'Monday', '07:00', '11:00')# вызов функции для утра понедельника в Петербурге (вместо df — таблица spb_general)"
   ]
  },
  {
   "cell_type": "code",
   "execution_count": 314,
   "metadata": {
    "deletable": false,
    "id": "EzXVRE1o_Zcu"
   },
   "outputs": [
    {
     "data": {
      "text/plain": [
       "genre\n",
       "pop            713\n",
       "rock           517\n",
       "dance          495\n",
       "electronic     482\n",
       "hiphop         273\n",
       "world          208\n",
       "ruspop         170\n",
       "alternative    163\n",
       "classical      163\n",
       "rusrap         142\n",
       "Name: genre, dtype: int64"
      ]
     },
     "execution_count": 314,
     "metadata": {},
     "output_type": "execute_result"
    }
   ],
   "source": [
    "genre_weekday(moscow_general, 'Friday', '17:00', '23:00')# вызов функции для вечера пятницы в Москве"
   ]
  },
  {
   "cell_type": "code",
   "execution_count": 315,
   "metadata": {
    "deletable": false,
    "id": "JZaEKu5v_Zcu"
   },
   "outputs": [
    {
     "data": {
      "text/plain": [
       "genre\n",
       "pop            256\n",
       "electronic     216\n",
       "rock           216\n",
       "dance          210\n",
       "hiphop          97\n",
       "alternative     63\n",
       "jazz            61\n",
       "classical       60\n",
       "rusrap          59\n",
       "world           54\n",
       "Name: genre, dtype: int64"
      ]
     },
     "execution_count": 315,
     "metadata": {},
     "output_type": "execute_result"
    }
   ],
   "source": [
    "genre_weekday(spb_general, 'Friday', '17:00', '23:00')# вызов функции для вечера пятницы в Петербурге"
   ]
  },
  {
   "attachments": {},
   "cell_type": "markdown",
   "metadata": {
    "deletable": false,
    "editable": false,
    "id": "wrCe4MNX_Zcu"
   },
   "source": [
    "**Выводы**\n",
    "\n",
    "Если сравнить топ-10 жанров в понедельник утром, можно сделать такие выводы:\n",
    "\n",
    "1. В Москве и Петербурге слушают похожую музыку. Единственное отличие — в московский рейтинг вошёл жанр “world”, а в петербургский — джаз и классика.\n",
    "\n",
    "2. В Москве пропущенных значений оказалось так много, что значение `'unknown'` заняло десятое место среди самых популярных жанров. Значит, пропущенные значения занимают существенную долю в данных и угрожают достоверности исследования.\n",
    "\n",
    "Вечер пятницы не меняет эту картину. Некоторые жанры поднимаются немного выше, другие спускаются, но в целом топ-10 остаётся тем же самым.\n",
    "\n",
    "Таким образом, вторая гипотеза подтвердилась лишь частично:\n",
    "* Пользователи слушают похожую музыку в начале недели и в конце.\n",
    "* Разница между Москвой и Петербургом не слишком выражена. В Москве чаще слушают русскую популярную музыку, в Петербурге — джаз.\n",
    "\n",
    "Однако пропуски в данных ставят под сомнение этот результат. В Москве их так много, что рейтинг топ-10 мог бы выглядеть иначе, если бы не утерянные  данные о жанрах."
   ]
  },
  {
   "attachments": {},
   "cell_type": "markdown",
   "metadata": {
    "deletable": false,
    "editable": false,
    "id": "JolODAqr_Zcu"
   },
   "source": [
    "### Жанровые предпочтения в Москве и Петербурге\n",
    "\n",
    "Гипотеза: Петербург — столица рэпа, музыку этого жанра там слушают чаще, чем в Москве.  А Москва — город контрастов, в котором, тем не менее, преобладает поп-музыка."
   ]
  },
  {
   "attachments": {},
   "cell_type": "markdown",
   "metadata": {
    "deletable": false,
    "editable": false,
    "id": "DlegSvaT_Zcu",
    "tags": [
     "start_task"
    ]
   },
   "source": [
    "**Задание 25**\n",
    "\n",
    "Сгруппируем таблицу `moscow_general` по жанру и посчитайте прослушивания треков каждого жанра методом `count()`. Затем отсортируем результат в порядке убывания и сохраните его в таблице `moscow_genres`."
   ]
  },
  {
   "cell_type": "code",
   "execution_count": 327,
   "metadata": {
    "deletable": false,
    "id": "r19lIPke_Zcu"
   },
   "outputs": [],
   "source": [
    "moscow_genres = moscow_general.groupby('genre')['genre'].count().sort_values(ascending = False)# одной строкой: группировка таблицы moscow_general по столбцу 'genre', \n",
    "# подсчёт числа значений 'genre' в этой группировке методом count(), \n",
    "# сортировка получившегося Series в порядке убывания и сохранение в moscow_genres"
   ]
  },
  {
   "attachments": {},
   "cell_type": "markdown",
   "metadata": {
    "deletable": false,
    "editable": false,
    "id": "6kMuomxTiIr8",
    "tags": [
     "start_task"
    ]
   },
   "source": [
    "**Задание 26**\n",
    "\n",
    "Выведем на экран первые десять строк `moscow_genres`:"
   ]
  },
  {
   "cell_type": "code",
   "execution_count": 328,
   "metadata": {
    "deletable": false,
    "id": "WhCSooF8_Zcv"
   },
   "outputs": [
    {
     "data": {
      "text/plain": [
       "genre\n",
       "pop            5892\n",
       "dance          4435\n",
       "rock           3965\n",
       "electronic     3786\n",
       "hiphop         2096\n",
       "classical      1616\n",
       "world          1432\n",
       "alternative    1379\n",
       "ruspop         1372\n",
       "rusrap         1161\n",
       "Name: genre, dtype: int64"
      ]
     },
     "execution_count": 328,
     "metadata": {},
     "output_type": "execute_result"
    }
   ],
   "source": [
    "moscow_genres.head(10) # просмотр первых 10 строк moscow_genres"
   ]
  },
  {
   "attachments": {},
   "cell_type": "markdown",
   "metadata": {
    "deletable": false,
    "editable": false,
    "id": "cnPG2vnN_Zcv",
    "tags": [
     "start_task"
    ]
   },
   "source": [
    "**Задание 27**\n",
    "\n",
    "\n",
    "Теперь повторим то же и для Петербурга.\n",
    "\n",
    "Сгруппируем таблицу `spb_general` по жанру. Посчитаем прослушивания треков каждого жанра. Результат отсортируем в порядке убывания и сохраним в таблице `spb_genres`:\n"
   ]
  },
  {
   "cell_type": "code",
   "execution_count": 325,
   "metadata": {
    "deletable": false,
    "id": "gluLIpE7_Zcv"
   },
   "outputs": [],
   "source": [
    "spb_genres = spb_general.groupby('genre')['genre'].count().sort_values(ascending = False)# одной строкой: группировка таблицы spb_general по столбцу 'genre', \n",
    "# подсчёт числа значений 'genre' в этой группировке методом count(), \n",
    "# сортировка получившегося Series в порядке убывания и сохранение в spb_genres"
   ]
  },
  {
   "attachments": {},
   "cell_type": "markdown",
   "metadata": {
    "deletable": false,
    "editable": false,
    "id": "5Doha_ODgyQ8",
    "tags": [
     "start_task"
    ]
   },
   "source": [
    "**Задание 28**\n",
    "\n",
    "Выведем на экран первые десять строк `spb_genres`:"
   ]
  },
  {
   "cell_type": "code",
   "execution_count": 326,
   "metadata": {
    "deletable": false,
    "id": "uaGJHjVU_Zcv"
   },
   "outputs": [
    {
     "data": {
      "text/plain": [
       "genre\n",
       "pop            2431\n",
       "dance          1932\n",
       "rock           1879\n",
       "electronic     1736\n",
       "hiphop          960\n",
       "alternative     649\n",
       "classical       646\n",
       "rusrap          564\n",
       "ruspop          538\n",
       "world           515\n",
       "Name: genre, dtype: int64"
      ]
     },
     "execution_count": 326,
     "metadata": {},
     "output_type": "execute_result"
    }
   ],
   "source": [
    "spb_genres.head(10)# просмотр первых 10 строк spb_genres"
   ]
  },
  {
   "attachments": {},
   "cell_type": "markdown",
   "metadata": {
    "deletable": false,
    "editable": false,
    "id": "RY51YJYu_Zcv"
   },
   "source": [
    "**Выводы**"
   ]
  },
  {
   "attachments": {},
   "cell_type": "markdown",
   "metadata": {
    "deletable": false,
    "editable": false,
    "id": "nVhnJEm__Zcv"
   },
   "source": [
    "Гипотеза частично подтвердилась:\n",
    "* Поп-музыка — самый популярный жанр в Москве, как и предполагала гипотеза. Более того, в топ-10 жанров встречается близкий жанр — русская популярная музыка.\n",
    "* Вопреки ожиданиям, рэп одинаково популярен в Москве и Петербурге. \n"
   ]
  },
  {
   "attachments": {},
   "cell_type": "markdown",
   "metadata": {
    "deletable": false,
    "editable": false,
    "id": "ykKQ0N65_Zcv"
   },
   "source": [
    "## Итоги исследования"
   ]
  },
  {
   "attachments": {},
   "cell_type": "markdown",
   "metadata": {
    "deletable": false,
    "editable": false,
    "id": "tjUwbHb3_Zcv"
   },
   "source": [
    "Проверили три гипотезы и установили:\n",
    "\n",
    "1. День недели по-разному влияет на активность пользователей в Москве и Петербурге. \n",
    "\n",
    "Первая гипотеза полностью подтвердилась.\n",
    "\n",
    "2. Музыкальные предпочтения не сильно меняются в течение недели — будь то Москва или Петербург. Небольшие различия заметны в начале недели, по понедельникам:\n",
    "* в Москве слушают музыку жанра “world”,\n",
    "* в Петербурге — джаз и классику.\n",
    "\n",
    "Таким образом, вторая гипотеза подтвердилась лишь отчасти. Этот результат мог оказаться иным, если бы не пропуски в данных.\n",
    "\n",
    "3. Во вкусах пользователей Москвы и Петербурга больше общего чем различий. Вопреки ожиданиям, предпочтения жанров в Петербурге напоминают московские.\n",
    "\n",
    "Третья гипотеза не подтвердилась. Если различия в предпочтениях и существуют, на основной массе пользователей они незаметны.\n",
    "\n",
    "**На практике исследования содержат проверки статистических гипотез.**\n",
    "Из данных одного сервиса не всегда можно сделать вывод о всех жителях города.\n",
    "Проверки статистических гипотез покажут, насколько они достоверны, исходя из имеющихся данных. \n"
   ]
  }
 ],
 "metadata": {
  "ExecuteTimeLog": [
   {
    "duration": 397,
    "start_time": "2022-10-12T09:12:03.827Z"
   },
   {
    "duration": 81,
    "start_time": "2022-10-12T09:16:17.772Z"
   },
   {
    "duration": 66,
    "start_time": "2022-10-12T09:16:26.566Z"
   },
   {
    "duration": 8,
    "start_time": "2022-10-12T09:17:13.043Z"
   },
   {
    "duration": 193,
    "start_time": "2022-10-12T09:20:41.643Z"
   },
   {
    "duration": 173,
    "start_time": "2022-10-12T09:35:28.135Z"
   },
   {
    "duration": 484,
    "start_time": "2022-10-12T09:36:45.512Z"
   },
   {
    "duration": 173,
    "start_time": "2022-10-12T09:37:40.725Z"
   },
   {
    "duration": 167,
    "start_time": "2022-10-12T09:37:47.776Z"
   },
   {
    "duration": 168,
    "start_time": "2022-10-12T09:37:52.752Z"
   },
   {
    "duration": 16,
    "start_time": "2022-10-12T09:41:12.924Z"
   },
   {
    "duration": 29,
    "start_time": "2022-10-12T09:41:33.471Z"
   },
   {
    "duration": 82,
    "start_time": "2022-10-12T09:47:15.080Z"
   },
   {
    "duration": 73,
    "start_time": "2022-10-12T09:47:50.120Z"
   },
   {
    "duration": 3,
    "start_time": "2022-10-12T09:48:30.529Z"
   },
   {
    "duration": 10,
    "start_time": "2022-10-12T09:49:53.814Z"
   },
   {
    "duration": 4,
    "start_time": "2022-10-12T09:50:16.294Z"
   },
   {
    "duration": 3,
    "start_time": "2022-10-12T09:52:22.811Z"
   },
   {
    "duration": 3,
    "start_time": "2022-10-12T09:52:45.282Z"
   },
   {
    "duration": 8,
    "start_time": "2022-10-12T09:53:08.920Z"
   },
   {
    "duration": 8,
    "start_time": "2022-10-12T09:53:18.960Z"
   },
   {
    "duration": 4,
    "start_time": "2022-10-12T09:53:35.843Z"
   },
   {
    "duration": 15,
    "start_time": "2022-10-12T10:02:20.176Z"
   },
   {
    "duration": 168,
    "start_time": "2022-10-12T10:05:57.180Z"
   },
   {
    "duration": 200,
    "start_time": "2022-10-12T10:06:22.122Z"
   },
   {
    "duration": 30,
    "start_time": "2022-10-12T10:16:56.522Z"
   },
   {
    "duration": 79,
    "start_time": "2022-10-12T10:19:48.313Z"
   },
   {
    "duration": 70,
    "start_time": "2022-10-12T10:19:56.909Z"
   },
   {
    "duration": 60,
    "start_time": "2022-10-12T10:23:38.071Z"
   },
   {
    "duration": 25,
    "start_time": "2022-10-12T10:24:11.812Z"
   },
   {
    "duration": 26,
    "start_time": "2022-10-12T10:25:46.970Z"
   },
   {
    "duration": 42,
    "start_time": "2022-10-12T10:26:05.895Z"
   },
   {
    "duration": 32,
    "start_time": "2022-10-12T10:27:08.673Z"
   },
   {
    "duration": 27,
    "start_time": "2022-10-12T10:27:37.099Z"
   },
   {
    "duration": 37,
    "start_time": "2022-10-12T10:39:19.859Z"
   },
   {
    "duration": 8,
    "start_time": "2022-10-12T10:41:32.275Z"
   },
   {
    "duration": 7,
    "start_time": "2022-10-12T10:43:41.216Z"
   },
   {
    "duration": 28,
    "start_time": "2022-10-12T10:43:56.316Z"
   },
   {
    "duration": 26,
    "start_time": "2022-10-12T10:45:22.603Z"
   },
   {
    "duration": 32,
    "start_time": "2022-10-12T10:45:30.518Z"
   },
   {
    "duration": 36,
    "start_time": "2022-10-12T10:46:55.797Z"
   },
   {
    "duration": 80,
    "start_time": "2022-10-12T10:48:23.966Z"
   },
   {
    "duration": 20,
    "start_time": "2022-10-12T10:48:34.734Z"
   },
   {
    "duration": 88,
    "start_time": "2022-10-12T10:50:34.982Z"
   },
   {
    "duration": 87,
    "start_time": "2022-10-12T10:51:27.376Z"
   },
   {
    "duration": 76,
    "start_time": "2022-10-12T10:51:33.161Z"
   },
   {
    "duration": 77,
    "start_time": "2022-10-12T10:54:19.677Z"
   },
   {
    "duration": 83,
    "start_time": "2022-10-12T10:54:30.613Z"
   },
   {
    "duration": 78,
    "start_time": "2022-10-12T10:54:34.573Z"
   },
   {
    "duration": 66,
    "start_time": "2022-10-12T10:54:38.843Z"
   },
   {
    "duration": 5,
    "start_time": "2022-10-12T10:56:23.951Z"
   },
   {
    "duration": 8,
    "start_time": "2022-10-12T11:05:31.905Z"
   },
   {
    "duration": 87,
    "start_time": "2022-10-12T11:08:55.454Z"
   },
   {
    "duration": 57,
    "start_time": "2022-10-12T11:09:36.675Z"
   },
   {
    "duration": 50,
    "start_time": "2022-10-12T11:31:41.323Z"
   },
   {
    "duration": 58,
    "start_time": "2022-10-12T11:32:09.503Z"
   },
   {
    "duration": 7,
    "start_time": "2022-10-12T11:37:31.598Z"
   },
   {
    "duration": 7,
    "start_time": "2022-10-12T11:38:02.181Z"
   },
   {
    "duration": 56,
    "start_time": "2022-10-12T11:38:39.099Z"
   },
   {
    "duration": 7,
    "start_time": "2022-10-12T11:46:11.246Z"
   },
   {
    "duration": 56,
    "start_time": "2022-10-12T11:46:20.612Z"
   },
   {
    "duration": 8,
    "start_time": "2022-10-12T11:48:13.700Z"
   },
   {
    "duration": 8,
    "start_time": "2022-10-12T11:50:07.998Z"
   },
   {
    "duration": 50,
    "start_time": "2022-10-12T11:51:11.901Z"
   },
   {
    "duration": 53,
    "start_time": "2022-10-12T11:51:21.386Z"
   },
   {
    "duration": 55,
    "start_time": "2022-10-12T11:51:45.025Z"
   },
   {
    "duration": 8,
    "start_time": "2022-10-12T11:53:47.719Z"
   },
   {
    "duration": 68,
    "start_time": "2022-10-12T11:54:00.135Z"
   },
   {
    "duration": 49,
    "start_time": "2022-10-12T11:55:17.848Z"
   },
   {
    "duration": 10,
    "start_time": "2022-10-12T11:55:34.475Z"
   },
   {
    "duration": 56,
    "start_time": "2022-10-12T11:57:11.147Z"
   },
   {
    "duration": 21,
    "start_time": "2022-10-12T12:00:09.253Z"
   },
   {
    "duration": 7,
    "start_time": "2022-10-12T12:00:22.003Z"
   },
   {
    "duration": 6,
    "start_time": "2022-10-12T12:00:39.904Z"
   },
   {
    "duration": 6,
    "start_time": "2022-10-12T12:01:09.626Z"
   },
   {
    "duration": 9,
    "start_time": "2022-10-12T12:02:53.801Z"
   },
   {
    "duration": 8,
    "start_time": "2022-10-12T12:03:43.426Z"
   },
   {
    "duration": 85,
    "start_time": "2022-10-12T12:03:49.617Z"
   },
   {
    "duration": 106,
    "start_time": "2022-10-12T12:04:00.566Z"
   },
   {
    "duration": 39,
    "start_time": "2022-10-12T12:04:42.319Z"
   },
   {
    "duration": 42,
    "start_time": "2022-10-12T12:10:10.105Z"
   },
   {
    "duration": 38,
    "start_time": "2022-10-12T12:10:25.593Z"
   },
   {
    "duration": 41,
    "start_time": "2022-10-12T12:10:31.938Z"
   },
   {
    "duration": 6,
    "start_time": "2022-10-13T05:56:20.484Z"
   },
   {
    "duration": 10,
    "start_time": "2022-10-13T06:08:21.849Z"
   },
   {
    "duration": 7,
    "start_time": "2022-10-13T06:08:51.676Z"
   },
   {
    "duration": 91,
    "start_time": "2022-10-13T06:10:32.730Z"
   },
   {
    "duration": 94,
    "start_time": "2022-10-13T06:12:48.233Z"
   },
   {
    "duration": 9,
    "start_time": "2022-10-13T06:13:07.337Z"
   },
   {
    "duration": 9,
    "start_time": "2022-10-13T06:13:51.621Z"
   },
   {
    "duration": 8,
    "start_time": "2022-10-13T06:14:05.837Z"
   },
   {
    "duration": 7,
    "start_time": "2022-10-13T06:20:29.396Z"
   },
   {
    "duration": 10,
    "start_time": "2022-10-13T06:21:12.230Z"
   },
   {
    "duration": 5,
    "start_time": "2022-10-13T06:21:52.012Z"
   },
   {
    "duration": 7,
    "start_time": "2022-10-13T06:23:11.651Z"
   },
   {
    "duration": 6,
    "start_time": "2022-10-13T06:23:35.944Z"
   },
   {
    "duration": 39,
    "start_time": "2022-10-13T06:23:47.163Z"
   },
   {
    "duration": 9,
    "start_time": "2022-10-13T06:25:50.140Z"
   },
   {
    "duration": 39,
    "start_time": "2022-10-13T06:25:59.803Z"
   },
   {
    "duration": 2269,
    "start_time": "2022-10-13T06:30:01.337Z"
   },
   {
    "duration": 7,
    "start_time": "2022-10-13T06:30:46.134Z"
   },
   {
    "duration": 6,
    "start_time": "2022-10-13T06:31:06.412Z"
   },
   {
    "duration": 11,
    "start_time": "2022-10-13T06:33:55.217Z"
   },
   {
    "duration": 17,
    "start_time": "2022-10-13T06:35:04.085Z"
   },
   {
    "duration": 9,
    "start_time": "2022-10-13T06:37:54.324Z"
   },
   {
    "duration": 10,
    "start_time": "2022-10-13T06:38:02.929Z"
   },
   {
    "duration": 12,
    "start_time": "2022-10-13T06:39:04.153Z"
   },
   {
    "duration": 442,
    "start_time": "2022-10-13T07:07:01.878Z"
   },
   {
    "duration": 104,
    "start_time": "2022-10-13T07:09:35.807Z"
   },
   {
    "duration": 89,
    "start_time": "2022-10-13T07:09:52.692Z"
   },
   {
    "duration": 107,
    "start_time": "2022-10-13T07:10:11.543Z"
   },
   {
    "duration": 74,
    "start_time": "2022-10-13T07:10:36.228Z"
   },
   {
    "duration": 80,
    "start_time": "2022-10-13T07:11:03.937Z"
   },
   {
    "duration": 136,
    "start_time": "2022-10-13T07:11:24.494Z"
   },
   {
    "duration": 72,
    "start_time": "2022-10-13T07:14:08.333Z"
   },
   {
    "duration": 87,
    "start_time": "2022-10-13T07:14:19.586Z"
   },
   {
    "duration": 4,
    "start_time": "2022-10-13T07:14:33.616Z"
   },
   {
    "duration": 1460,
    "start_time": "2022-10-13T07:19:17.314Z"
   },
   {
    "duration": 0,
    "start_time": "2022-10-13T07:19:18.776Z"
   },
   {
    "duration": 1302,
    "start_time": "2022-10-13T07:19:45.556Z"
   },
   {
    "duration": 0,
    "start_time": "2022-10-13T07:19:46.860Z"
   },
   {
    "duration": 1350,
    "start_time": "2022-10-13T07:22:12.598Z"
   },
   {
    "duration": 1783,
    "start_time": "2022-10-13T07:23:25.504Z"
   },
   {
    "duration": 83,
    "start_time": "2022-10-13T07:23:54.815Z"
   },
   {
    "duration": 1280,
    "start_time": "2022-10-13T07:24:03.895Z"
   },
   {
    "duration": 1610,
    "start_time": "2022-10-13T07:27:44.660Z"
   },
   {
    "duration": 1241,
    "start_time": "2022-10-13T07:29:38.728Z"
   },
   {
    "duration": 4,
    "start_time": "2022-10-13T07:30:14.453Z"
   },
   {
    "duration": 1279,
    "start_time": "2022-10-13T07:30:19.552Z"
   },
   {
    "duration": 1321,
    "start_time": "2022-10-13T07:31:05.955Z"
   },
   {
    "duration": 7,
    "start_time": "2022-10-13T07:31:13.944Z"
   },
   {
    "duration": 7,
    "start_time": "2022-10-13T07:31:54.514Z"
   },
   {
    "duration": 7,
    "start_time": "2022-10-13T07:32:21.983Z"
   },
   {
    "duration": 6,
    "start_time": "2022-10-13T07:33:54.592Z"
   },
   {
    "duration": 1741,
    "start_time": "2022-10-13T07:34:04.143Z"
   },
   {
    "duration": 4,
    "start_time": "2022-10-13T07:34:39.032Z"
   },
   {
    "duration": 1363,
    "start_time": "2022-10-13T07:34:43.779Z"
   },
   {
    "duration": 4,
    "start_time": "2022-10-13T07:35:01.652Z"
   },
   {
    "duration": 0,
    "start_time": "2022-10-13T07:35:26.492Z"
   },
   {
    "duration": 0,
    "start_time": "2022-10-13T07:35:26.494Z"
   },
   {
    "duration": 8604,
    "start_time": "2022-10-13T07:35:26.601Z"
   },
   {
    "duration": 0,
    "start_time": "2022-10-13T07:35:35.207Z"
   },
   {
    "duration": 0,
    "start_time": "2022-10-13T07:35:35.209Z"
   },
   {
    "duration": 0,
    "start_time": "2022-10-13T07:35:35.210Z"
   },
   {
    "duration": 4411,
    "start_time": "2022-10-13T07:36:08.305Z"
   },
   {
    "duration": 7,
    "start_time": "2022-10-13T07:36:18.461Z"
   },
   {
    "duration": 2198,
    "start_time": "2022-10-13T07:36:25.910Z"
   },
   {
    "duration": 2582,
    "start_time": "2022-10-13T07:36:40.466Z"
   },
   {
    "duration": 1932,
    "start_time": "2022-10-13T07:36:45.864Z"
   },
   {
    "duration": 1953,
    "start_time": "2022-10-13T07:37:18.565Z"
   },
   {
    "duration": 5,
    "start_time": "2022-10-13T07:39:28.123Z"
   },
   {
    "duration": 1385,
    "start_time": "2022-10-13T07:39:33.016Z"
   },
   {
    "duration": 1632,
    "start_time": "2022-10-13T07:39:51.461Z"
   },
   {
    "duration": 1431,
    "start_time": "2022-10-13T07:39:58.549Z"
   },
   {
    "duration": 4,
    "start_time": "2022-10-13T07:40:37.070Z"
   },
   {
    "duration": 6,
    "start_time": "2022-10-13T07:41:56.268Z"
   },
   {
    "duration": 13,
    "start_time": "2022-10-13T07:41:59.911Z"
   },
   {
    "duration": 3,
    "start_time": "2022-10-13T07:43:10.616Z"
   },
   {
    "duration": 1736,
    "start_time": "2022-10-13T07:43:13.360Z"
   },
   {
    "duration": 5,
    "start_time": "2022-10-13T07:45:33.676Z"
   },
   {
    "duration": 10,
    "start_time": "2022-10-13T07:45:37.636Z"
   },
   {
    "duration": 9,
    "start_time": "2022-10-13T07:49:12.732Z"
   },
   {
    "duration": 3,
    "start_time": "2022-10-13T07:50:30.137Z"
   },
   {
    "duration": 12,
    "start_time": "2022-10-13T07:50:34.542Z"
   },
   {
    "duration": 8,
    "start_time": "2022-10-13T07:51:05.581Z"
   },
   {
    "duration": 4,
    "start_time": "2022-10-13T07:54:20.369Z"
   },
   {
    "duration": 1273,
    "start_time": "2022-10-13T07:54:24.489Z"
   },
   {
    "duration": 8,
    "start_time": "2022-10-13T07:54:41.541Z"
   },
   {
    "duration": 10,
    "start_time": "2022-10-13T07:54:46.544Z"
   },
   {
    "duration": 5,
    "start_time": "2022-10-13T08:00:24.943Z"
   },
   {
    "duration": 13,
    "start_time": "2022-10-13T08:00:31.593Z"
   },
   {
    "duration": 5,
    "start_time": "2022-10-13T08:00:59.706Z"
   },
   {
    "duration": 13,
    "start_time": "2022-10-13T08:01:03.018Z"
   },
   {
    "duration": 6,
    "start_time": "2022-10-13T08:01:40.281Z"
   },
   {
    "duration": 19,
    "start_time": "2022-10-13T08:01:44.438Z"
   },
   {
    "duration": 15,
    "start_time": "2022-10-13T08:02:06.817Z"
   },
   {
    "duration": 15,
    "start_time": "2022-10-13T08:02:07.856Z"
   },
   {
    "duration": 8,
    "start_time": "2022-10-13T08:02:08.647Z"
   },
   {
    "duration": 16,
    "start_time": "2022-10-13T08:02:09.355Z"
   },
   {
    "duration": 15,
    "start_time": "2022-10-13T08:02:10.198Z"
   },
   {
    "duration": 17,
    "start_time": "2022-10-13T08:02:23.568Z"
   },
   {
    "duration": 9,
    "start_time": "2022-10-13T08:03:16.150Z"
   },
   {
    "duration": 8,
    "start_time": "2022-10-13T08:03:28.334Z"
   },
   {
    "duration": 11,
    "start_time": "2022-10-13T08:04:16.418Z"
   },
   {
    "duration": 8,
    "start_time": "2022-10-13T08:08:53.593Z"
   },
   {
    "duration": 9,
    "start_time": "2022-10-13T08:09:31.940Z"
   },
   {
    "duration": 8,
    "start_time": "2022-10-13T08:09:36.583Z"
   },
   {
    "duration": 10,
    "start_time": "2022-10-13T08:09:48.058Z"
   },
   {
    "duration": 7,
    "start_time": "2022-10-13T08:11:25.537Z"
   },
   {
    "duration": 13,
    "start_time": "2022-10-13T08:11:43.287Z"
   },
   {
    "duration": 9,
    "start_time": "2022-10-13T08:12:21.635Z"
   },
   {
    "duration": 8,
    "start_time": "2022-10-13T08:13:51.464Z"
   },
   {
    "duration": 13,
    "start_time": "2022-10-13T08:14:29.580Z"
   },
   {
    "duration": 8,
    "start_time": "2022-10-13T08:14:38.877Z"
   },
   {
    "duration": 12,
    "start_time": "2022-10-13T08:15:56.144Z"
   },
   {
    "duration": 8,
    "start_time": "2022-10-13T08:16:25.889Z"
   },
   {
    "duration": 8,
    "start_time": "2022-10-13T08:19:15.664Z"
   },
   {
    "duration": 7,
    "start_time": "2022-10-13T08:19:42.874Z"
   },
   {
    "duration": 9,
    "start_time": "2022-10-13T08:20:20.898Z"
   },
   {
    "duration": 12,
    "start_time": "2022-10-13T08:23:30.647Z"
   },
   {
    "duration": 2431,
    "start_time": "2022-10-13T08:30:11.164Z"
   },
   {
    "duration": 16,
    "start_time": "2022-10-13T08:30:32.014Z"
   },
   {
    "duration": 20,
    "start_time": "2022-10-13T08:30:37.189Z"
   },
   {
    "duration": 14,
    "start_time": "2022-10-13T08:30:41.037Z"
   },
   {
    "duration": 79,
    "start_time": "2022-10-14T07:09:03.773Z"
   },
   {
    "duration": 198,
    "start_time": "2022-10-14T07:09:23.548Z"
   },
   {
    "duration": 45,
    "start_time": "2022-10-14T07:09:38.223Z"
   },
   {
    "duration": 74,
    "start_time": "2022-10-14T07:20:12.401Z"
   },
   {
    "duration": 63,
    "start_time": "2022-10-14T07:21:13.298Z"
   },
   {
    "duration": 91,
    "start_time": "2022-10-14T07:24:43.508Z"
   },
   {
    "duration": 100,
    "start_time": "2022-10-14T07:24:51.006Z"
   },
   {
    "duration": 99,
    "start_time": "2022-10-14T07:24:57.167Z"
   },
   {
    "duration": 44,
    "start_time": "2022-10-14T07:25:06.121Z"
   },
   {
    "duration": 48,
    "start_time": "2022-10-14T07:25:47.276Z"
   },
   {
    "duration": 61,
    "start_time": "2022-10-14T07:25:57.135Z"
   },
   {
    "duration": 54,
    "start_time": "2022-10-14T07:26:20.391Z"
   },
   {
    "duration": 59,
    "start_time": "2022-10-14T07:34:53.652Z"
   },
   {
    "duration": 57,
    "start_time": "2022-10-14T07:35:07.066Z"
   },
   {
    "duration": 5,
    "start_time": "2022-10-14T07:40:05.094Z"
   },
   {
    "duration": 5,
    "start_time": "2022-10-14T07:41:25.507Z"
   },
   {
    "duration": 6,
    "start_time": "2022-10-14T07:41:36.443Z"
   },
   {
    "duration": 5,
    "start_time": "2022-10-14T07:41:47.661Z"
   },
   {
    "duration": 6,
    "start_time": "2022-10-14T07:43:15.629Z"
   },
   {
    "duration": 6,
    "start_time": "2022-10-14T07:43:26.832Z"
   },
   {
    "duration": 5,
    "start_time": "2022-10-14T07:44:09.289Z"
   },
   {
    "duration": 47,
    "start_time": "2022-10-14T07:45:55.950Z"
   },
   {
    "duration": 8,
    "start_time": "2022-10-14T07:48:04.169Z"
   },
   {
    "duration": 5,
    "start_time": "2022-10-14T07:48:13.946Z"
   },
   {
    "duration": 6,
    "start_time": "2022-10-14T07:48:34.584Z"
   },
   {
    "duration": 4,
    "start_time": "2022-10-14T07:49:25.631Z"
   },
   {
    "duration": 6,
    "start_time": "2022-10-14T07:49:46.664Z"
   },
   {
    "duration": 6,
    "start_time": "2022-10-14T07:50:47.255Z"
   },
   {
    "duration": 6,
    "start_time": "2022-10-14T07:50:59.054Z"
   },
   {
    "duration": 5,
    "start_time": "2022-10-14T07:51:05.284Z"
   },
   {
    "duration": 9,
    "start_time": "2022-10-14T07:51:21.129Z"
   },
   {
    "duration": 8,
    "start_time": "2022-10-14T07:51:29.406Z"
   },
   {
    "duration": 7,
    "start_time": "2022-10-14T07:51:34.662Z"
   },
   {
    "duration": 6,
    "start_time": "2022-10-14T07:51:39.039Z"
   },
   {
    "duration": 6,
    "start_time": "2022-10-14T07:51:44.979Z"
   },
   {
    "duration": 6,
    "start_time": "2022-10-14T07:51:48.372Z"
   },
   {
    "duration": 7,
    "start_time": "2022-10-14T07:51:56.363Z"
   },
   {
    "duration": 6,
    "start_time": "2022-10-14T07:52:05.396Z"
   },
   {
    "duration": 5,
    "start_time": "2022-10-14T07:52:21.476Z"
   },
   {
    "duration": 7,
    "start_time": "2022-10-14T07:52:35.729Z"
   },
   {
    "duration": 5,
    "start_time": "2022-10-14T07:53:25.285Z"
   },
   {
    "duration": 450,
    "start_time": "2022-10-14T07:53:30.979Z"
   },
   {
    "duration": 193,
    "start_time": "2022-10-14T07:53:35.532Z"
   },
   {
    "duration": 19,
    "start_time": "2022-10-14T07:53:47.625Z"
   },
   {
    "duration": 25,
    "start_time": "2022-10-14T07:53:56.287Z"
   },
   {
    "duration": 4,
    "start_time": "2022-10-14T07:54:12.789Z"
   },
   {
    "duration": 5,
    "start_time": "2022-10-14T07:54:18.248Z"
   },
   {
    "duration": 21,
    "start_time": "2022-10-14T07:54:26.622Z"
   },
   {
    "duration": 893,
    "start_time": "2022-10-14T07:54:38.299Z"
   },
   {
    "duration": 811,
    "start_time": "2022-10-14T07:54:44.152Z"
   },
   {
    "duration": 1092,
    "start_time": "2022-10-14T07:59:22.321Z"
   },
   {
    "duration": 836,
    "start_time": "2022-10-14T08:02:04.944Z"
   },
   {
    "duration": 1348,
    "start_time": "2022-10-14T08:02:43.543Z"
   },
   {
    "duration": 975,
    "start_time": "2022-10-14T08:03:08.676Z"
   },
   {
    "duration": 17,
    "start_time": "2022-10-14T08:03:33.202Z"
   },
   {
    "duration": 21,
    "start_time": "2022-10-14T08:03:45.701Z"
   },
   {
    "duration": 65,
    "start_time": "2022-10-14T08:03:55.323Z"
   },
   {
    "duration": 73,
    "start_time": "2022-10-14T08:04:01.685Z"
   },
   {
    "duration": 69,
    "start_time": "2022-10-14T08:04:12.129Z"
   },
   {
    "duration": 62,
    "start_time": "2022-10-14T08:04:15.926Z"
   },
   {
    "duration": 58,
    "start_time": "2022-10-14T08:04:28.087Z"
   },
   {
    "duration": 2087,
    "start_time": "2022-10-14T08:04:43.108Z"
   },
   {
    "duration": 50,
    "start_time": "2022-10-14T08:04:53.929Z"
   },
   {
    "duration": 1101,
    "start_time": "2022-10-14T08:05:07.029Z"
   },
   {
    "duration": 8,
    "start_time": "2022-10-14T08:06:02.298Z"
   },
   {
    "duration": 39,
    "start_time": "2022-10-14T08:06:12.373Z"
   },
   {
    "duration": 10,
    "start_time": "2022-10-14T08:06:44.699Z"
   },
   {
    "duration": 10,
    "start_time": "2022-10-14T08:07:23.185Z"
   },
   {
    "duration": 9,
    "start_time": "2022-10-14T08:11:04.755Z"
   },
   {
    "duration": 4,
    "start_time": "2022-10-14T08:13:20.309Z"
   },
   {
    "duration": 4,
    "start_time": "2022-10-14T08:13:56.325Z"
   },
   {
    "duration": 3,
    "start_time": "2022-10-14T08:14:44.225Z"
   },
   {
    "duration": 4,
    "start_time": "2022-10-14T08:14:55.954Z"
   },
   {
    "duration": 20,
    "start_time": "2022-10-14T08:15:29.872Z"
   },
   {
    "duration": 1247,
    "start_time": "2022-10-14T08:17:21.406Z"
   },
   {
    "duration": 15,
    "start_time": "2022-10-14T08:17:45.102Z"
   },
   {
    "duration": 20,
    "start_time": "2022-10-14T08:17:50.550Z"
   },
   {
    "duration": 59,
    "start_time": "2022-10-14T08:18:00.874Z"
   },
   {
    "duration": 76,
    "start_time": "2022-10-14T08:18:06.671Z"
   },
   {
    "duration": 55,
    "start_time": "2022-10-14T08:18:09.684Z"
   },
   {
    "duration": 43,
    "start_time": "2022-10-14T08:18:24.876Z"
   },
   {
    "duration": 58,
    "start_time": "2022-10-14T08:18:46.077Z"
   },
   {
    "duration": 10,
    "start_time": "2022-10-14T08:18:56.054Z"
   },
   {
    "duration": 40,
    "start_time": "2022-10-14T08:19:02.955Z"
   },
   {
    "duration": 12,
    "start_time": "2022-10-14T08:19:22.558Z"
   },
   {
    "duration": 11,
    "start_time": "2022-10-14T08:21:51.231Z"
   },
   {
    "duration": 16,
    "start_time": "2022-10-14T08:22:29.729Z"
   },
   {
    "duration": 4,
    "start_time": "2022-10-14T08:22:49.239Z"
   },
   {
    "duration": 16,
    "start_time": "2022-10-14T08:22:53.950Z"
   },
   {
    "duration": 13,
    "start_time": "2022-10-14T08:22:55.058Z"
   },
   {
    "duration": 14,
    "start_time": "2022-10-14T08:22:55.701Z"
   },
   {
    "duration": 13,
    "start_time": "2022-10-14T08:22:56.425Z"
   },
   {
    "duration": 15,
    "start_time": "2022-10-14T08:22:57.148Z"
   },
   {
    "duration": 21,
    "start_time": "2022-10-14T08:22:58.832Z"
   },
   {
    "duration": 9,
    "start_time": "2022-10-14T08:23:02.829Z"
   },
   {
    "duration": 10,
    "start_time": "2022-10-14T08:23:11.879Z"
   },
   {
    "duration": 9,
    "start_time": "2022-10-14T08:23:13.705Z"
   },
   {
    "duration": 6,
    "start_time": "2022-10-14T08:23:47.022Z"
   },
   {
    "duration": 11,
    "start_time": "2022-10-14T08:23:55.838Z"
   },
   {
    "duration": 6,
    "start_time": "2022-10-14T08:25:48.608Z"
   },
   {
    "duration": 11,
    "start_time": "2022-10-14T08:25:52.563Z"
   },
   {
    "duration": 6,
    "start_time": "2022-10-14T08:26:43.774Z"
   },
   {
    "duration": 20,
    "start_time": "2022-10-14T08:26:46.980Z"
   },
   {
    "duration": 7,
    "start_time": "2022-10-14T08:27:59.473Z"
   },
   {
    "duration": 20,
    "start_time": "2022-10-14T08:28:02.969Z"
   },
   {
    "duration": 16,
    "start_time": "2022-10-14T08:30:07.619Z"
   },
   {
    "duration": 5,
    "start_time": "2022-10-14T08:34:39.753Z"
   },
   {
    "duration": 20,
    "start_time": "2022-10-14T08:34:44.905Z"
   },
   {
    "duration": 6,
    "start_time": "2022-10-14T08:35:24.723Z"
   },
   {
    "duration": 16,
    "start_time": "2022-10-14T08:35:27.843Z"
   },
   {
    "duration": 12,
    "start_time": "2022-10-14T08:35:49.232Z"
   },
   {
    "duration": 9,
    "start_time": "2022-10-14T08:37:28.469Z"
   },
   {
    "duration": 13,
    "start_time": "2022-10-14T08:37:33.111Z"
   },
   {
    "duration": 12,
    "start_time": "2022-10-14T08:40:24.105Z"
   },
   {
    "duration": 13,
    "start_time": "2022-10-14T08:40:28.485Z"
   },
   {
    "duration": 15,
    "start_time": "2022-10-14T08:40:37.961Z"
   },
   {
    "duration": 8,
    "start_time": "2022-10-14T08:46:16.113Z"
   },
   {
    "duration": 57,
    "start_time": "2022-10-14T08:47:55.597Z"
   },
   {
    "duration": 69,
    "start_time": "2022-10-14T08:50:59.771Z"
   },
   {
    "duration": 66,
    "start_time": "2022-10-14T08:51:09.940Z"
   },
   {
    "duration": 5,
    "start_time": "2022-10-14T08:51:36.688Z"
   },
   {
    "duration": 7,
    "start_time": "2022-10-14T08:52:54.126Z"
   },
   {
    "duration": 6,
    "start_time": "2022-10-14T08:53:20.004Z"
   },
   {
    "duration": 6,
    "start_time": "2022-10-14T08:53:22.601Z"
   },
   {
    "duration": 4,
    "start_time": "2022-10-14T09:08:28.710Z"
   },
   {
    "duration": 7,
    "start_time": "2022-10-14T09:20:12.718Z"
   },
   {
    "duration": 11,
    "start_time": "2022-10-14T09:22:17.843Z"
   },
   {
    "duration": 4,
    "start_time": "2022-10-14T09:22:18.984Z"
   },
   {
    "duration": 20,
    "start_time": "2022-10-14T09:22:20.000Z"
   },
   {
    "duration": 14,
    "start_time": "2022-10-14T09:22:21.639Z"
   },
   {
    "duration": 26,
    "start_time": "2022-10-14T09:22:22.683Z"
   },
   {
    "duration": 57,
    "start_time": "2022-10-14T09:22:23.754Z"
   },
   {
    "duration": 68,
    "start_time": "2022-10-14T09:22:24.814Z"
   },
   {
    "duration": 54,
    "start_time": "2022-10-14T09:22:25.854Z"
   },
   {
    "duration": 39,
    "start_time": "2022-10-14T09:22:27.446Z"
   },
   {
    "duration": 9,
    "start_time": "2022-10-14T09:22:28.634Z"
   },
   {
    "duration": 39,
    "start_time": "2022-10-14T09:22:29.694Z"
   },
   {
    "duration": 11,
    "start_time": "2022-10-14T09:23:29.034Z"
   },
   {
    "duration": 12,
    "start_time": "2022-10-14T09:23:30.809Z"
   },
   {
    "duration": 4,
    "start_time": "2022-10-14T09:23:33.186Z"
   },
   {
    "duration": 19,
    "start_time": "2022-10-14T09:23:34.659Z"
   },
   {
    "duration": 20,
    "start_time": "2022-10-14T09:23:35.460Z"
   },
   {
    "duration": 14,
    "start_time": "2022-10-14T09:23:36.205Z"
   },
   {
    "duration": 14,
    "start_time": "2022-10-14T09:23:36.903Z"
   },
   {
    "duration": 15,
    "start_time": "2022-10-14T09:23:37.702Z"
   },
   {
    "duration": 18,
    "start_time": "2022-10-14T09:23:38.404Z"
   },
   {
    "duration": 9,
    "start_time": "2022-10-14T09:23:39.987Z"
   },
   {
    "duration": 10,
    "start_time": "2022-10-14T09:23:43.793Z"
   },
   {
    "duration": 9,
    "start_time": "2022-10-14T09:23:44.492Z"
   },
   {
    "duration": 5,
    "start_time": "2022-10-14T09:23:46.079Z"
   },
   {
    "duration": 16,
    "start_time": "2022-10-14T09:23:47.623Z"
   },
   {
    "duration": 11,
    "start_time": "2022-10-14T09:23:48.487Z"
   },
   {
    "duration": 15,
    "start_time": "2022-10-14T09:23:49.259Z"
   },
   {
    "duration": 11,
    "start_time": "2022-10-14T09:23:50.037Z"
   },
   {
    "duration": 9,
    "start_time": "2022-10-14T09:23:53.241Z"
   },
   {
    "duration": 4,
    "start_time": "2022-10-14T09:23:54.802Z"
   },
   {
    "duration": 7,
    "start_time": "2022-10-14T09:23:56.327Z"
   },
   {
    "duration": 6,
    "start_time": "2022-10-14T09:23:57.831Z"
   },
   {
    "duration": 12,
    "start_time": "2022-10-14T09:25:16.995Z"
   },
   {
    "duration": 6,
    "start_time": "2022-10-14T09:25:28.353Z"
   },
   {
    "duration": 3,
    "start_time": "2022-10-14T09:25:35.997Z"
   },
   {
    "duration": 4,
    "start_time": "2022-10-14T09:32:04.261Z"
   },
   {
    "duration": 11,
    "start_time": "2022-10-14T09:41:16.867Z"
   },
   {
    "duration": 7,
    "start_time": "2022-10-14T09:43:29.184Z"
   },
   {
    "duration": 8,
    "start_time": "2022-10-14T09:46:31.360Z"
   },
   {
    "duration": 9,
    "start_time": "2022-10-14T09:47:42.705Z"
   },
   {
    "duration": 9,
    "start_time": "2022-10-14T09:48:12.673Z"
   },
   {
    "duration": 8,
    "start_time": "2022-10-14T09:48:30.763Z"
   },
   {
    "duration": 7,
    "start_time": "2022-10-14T09:49:03.589Z"
   },
   {
    "duration": 7,
    "start_time": "2022-10-14T09:50:50.428Z"
   },
   {
    "duration": 7,
    "start_time": "2022-10-14T09:53:39.029Z"
   },
   {
    "duration": 6,
    "start_time": "2022-10-14T09:54:13.243Z"
   },
   {
    "duration": 7,
    "start_time": "2022-10-14T09:56:43.352Z"
   },
   {
    "duration": 7,
    "start_time": "2022-10-14T09:57:06.111Z"
   },
   {
    "duration": 2,
    "start_time": "2022-10-14T09:57:41.027Z"
   },
   {
    "duration": 149,
    "start_time": "2022-10-14T09:57:43.754Z"
   },
   {
    "duration": 10,
    "start_time": "2022-10-14T09:57:46.618Z"
   },
   {
    "duration": 27,
    "start_time": "2022-10-14T09:57:53.681Z"
   },
   {
    "duration": 3,
    "start_time": "2022-10-14T09:58:03.536Z"
   },
   {
    "duration": 4,
    "start_time": "2022-10-14T09:58:07.682Z"
   },
   {
    "duration": 5,
    "start_time": "2022-10-14T09:58:10.788Z"
   },
   {
    "duration": 12,
    "start_time": "2022-10-14T09:58:31.447Z"
   },
   {
    "duration": 3,
    "start_time": "2022-10-14T09:58:33.519Z"
   },
   {
    "duration": 8,
    "start_time": "2022-10-14T09:59:48.142Z"
   },
   {
    "duration": 4,
    "start_time": "2022-10-14T09:59:51.475Z"
   },
   {
    "duration": 13,
    "start_time": "2022-10-14T10:01:02.718Z"
   },
   {
    "duration": 4,
    "start_time": "2022-10-14T10:01:06.274Z"
   },
   {
    "duration": 6,
    "start_time": "2022-10-14T10:01:46.810Z"
   },
   {
    "duration": 5,
    "start_time": "2022-10-14T10:01:48.917Z"
   },
   {
    "duration": 5,
    "start_time": "2022-10-14T10:01:56.707Z"
   },
   {
    "duration": 7,
    "start_time": "2022-10-14T10:03:21.213Z"
   },
   {
    "duration": 4,
    "start_time": "2022-10-14T10:03:22.945Z"
   },
   {
    "duration": 7,
    "start_time": "2022-10-14T10:03:32.312Z"
   },
   {
    "duration": 5,
    "start_time": "2022-10-14T10:03:38.715Z"
   },
   {
    "duration": 5,
    "start_time": "2022-10-14T10:03:49.825Z"
   },
   {
    "duration": 4,
    "start_time": "2022-10-14T10:03:51.608Z"
   },
   {
    "duration": 7,
    "start_time": "2022-10-14T10:04:39.978Z"
   },
   {
    "duration": 7,
    "start_time": "2022-10-14T10:04:49.619Z"
   },
   {
    "duration": 3,
    "start_time": "2022-10-14T10:05:11.800Z"
   },
   {
    "duration": 6,
    "start_time": "2022-10-14T10:05:25.187Z"
   },
   {
    "duration": 4,
    "start_time": "2022-10-14T10:05:55.612Z"
   },
   {
    "duration": 4,
    "start_time": "2022-10-14T10:07:34.071Z"
   },
   {
    "duration": 7,
    "start_time": "2022-10-14T10:07:45.243Z"
   },
   {
    "duration": 4,
    "start_time": "2022-10-14T10:07:47.819Z"
   },
   {
    "duration": 8,
    "start_time": "2022-10-14T10:08:23.629Z"
   },
   {
    "duration": 4,
    "start_time": "2022-10-14T10:09:07.170Z"
   },
   {
    "duration": 6,
    "start_time": "2022-10-14T10:09:14.618Z"
   },
   {
    "duration": 4,
    "start_time": "2022-10-14T10:09:21.007Z"
   },
   {
    "duration": 4,
    "start_time": "2022-10-14T10:10:51.557Z"
   },
   {
    "duration": 2,
    "start_time": "2022-10-14T10:11:10.369Z"
   },
   {
    "duration": 145,
    "start_time": "2022-10-14T10:11:13.430Z"
   },
   {
    "duration": 11,
    "start_time": "2022-10-14T10:11:16.854Z"
   },
   {
    "duration": 25,
    "start_time": "2022-10-14T10:11:26.413Z"
   },
   {
    "duration": 4,
    "start_time": "2022-10-14T10:12:03.488Z"
   },
   {
    "duration": 6,
    "start_time": "2022-10-14T10:12:33.416Z"
   },
   {
    "duration": 4,
    "start_time": "2022-10-14T10:12:35.319Z"
   },
   {
    "duration": 11,
    "start_time": "2022-10-14T10:12:57.764Z"
   },
   {
    "duration": 4,
    "start_time": "2022-10-14T10:13:00.569Z"
   },
   {
    "duration": 9,
    "start_time": "2022-10-14T10:14:16.526Z"
   },
   {
    "duration": 4,
    "start_time": "2022-10-14T10:14:18.777Z"
   },
   {
    "duration": 6,
    "start_time": "2022-10-14T10:18:56.044Z"
   },
   {
    "duration": 3,
    "start_time": "2022-10-14T10:18:58.888Z"
   },
   {
    "duration": 4,
    "start_time": "2022-10-14T10:29:34.968Z"
   },
   {
    "duration": 5,
    "start_time": "2022-10-14T10:30:05.769Z"
   },
   {
    "duration": 8,
    "start_time": "2022-10-14T10:30:26.463Z"
   },
   {
    "duration": 12,
    "start_time": "2022-10-14T10:32:01.244Z"
   },
   {
    "duration": 6,
    "start_time": "2022-10-14T10:32:24.689Z"
   },
   {
    "duration": 11,
    "start_time": "2022-10-14T10:32:28.275Z"
   },
   {
    "duration": 10,
    "start_time": "2022-10-14T10:33:07.420Z"
   },
   {
    "duration": 11,
    "start_time": "2022-10-14T10:35:53.088Z"
   },
   {
    "duration": 11,
    "start_time": "2022-10-14T10:37:06.132Z"
   },
   {
    "duration": 7,
    "start_time": "2022-10-14T10:37:27.541Z"
   },
   {
    "duration": 5,
    "start_time": "2022-10-14T10:39:34.527Z"
   },
   {
    "duration": 24,
    "start_time": "2022-10-14T10:42:28.860Z"
   },
   {
    "duration": 42,
    "start_time": "2022-10-14T10:42:57.585Z"
   },
   {
    "duration": 15,
    "start_time": "2022-10-14T10:43:17.207Z"
   },
   {
    "duration": 18,
    "start_time": "2022-10-14T10:43:34.768Z"
   },
   {
    "duration": 5,
    "start_time": "2022-10-14T10:44:08.048Z"
   },
   {
    "duration": 11,
    "start_time": "2022-10-14T10:44:11.029Z"
   },
   {
    "duration": 11,
    "start_time": "2022-10-14T10:44:50.537Z"
   },
   {
    "duration": 14,
    "start_time": "2022-10-14T10:44:53.358Z"
   },
   {
    "duration": 12,
    "start_time": "2022-10-14T10:45:15.709Z"
   },
   {
    "duration": 3,
    "start_time": "2022-10-14T10:48:35.473Z"
   },
   {
    "duration": 25,
    "start_time": "2022-10-14T10:48:45.939Z"
   },
   {
    "duration": 139,
    "start_time": "2022-10-14T10:49:45.742Z"
   },
   {
    "duration": 11,
    "start_time": "2022-10-14T10:49:49.545Z"
   },
   {
    "duration": 25,
    "start_time": "2022-10-14T10:49:56.623Z"
   },
   {
    "duration": 3,
    "start_time": "2022-10-14T10:50:10.814Z"
   },
   {
    "duration": 4,
    "start_time": "2022-10-14T10:50:15.068Z"
   },
   {
    "duration": 8,
    "start_time": "2022-10-14T11:08:18.759Z"
   },
   {
    "duration": 10,
    "start_time": "2022-10-14T11:08:58.008Z"
   },
   {
    "duration": 7,
    "start_time": "2022-10-14T11:11:31.055Z"
   },
   {
    "duration": 7,
    "start_time": "2022-10-14T11:14:46.274Z"
   },
   {
    "duration": 6,
    "start_time": "2022-10-14T11:15:31.142Z"
   },
   {
    "duration": 7,
    "start_time": "2022-10-14T11:15:53.684Z"
   },
   {
    "duration": 7,
    "start_time": "2022-10-14T11:16:25.464Z"
   },
   {
    "duration": 4,
    "start_time": "2022-10-14T11:16:43.612Z"
   },
   {
    "duration": 4,
    "start_time": "2022-10-14T11:16:59.351Z"
   },
   {
    "duration": 161,
    "start_time": "2022-10-14T11:17:10.654Z"
   },
   {
    "duration": 11,
    "start_time": "2022-10-14T11:17:13.512Z"
   },
   {
    "duration": 25,
    "start_time": "2022-10-14T11:17:22.754Z"
   },
   {
    "duration": 11,
    "start_time": "2022-10-14T11:17:31.512Z"
   },
   {
    "duration": 4,
    "start_time": "2022-10-14T11:17:35.665Z"
   },
   {
    "duration": 9,
    "start_time": "2022-10-14T11:18:55.163Z"
   },
   {
    "duration": 4,
    "start_time": "2022-10-14T11:19:04.578Z"
   },
   {
    "duration": 3,
    "start_time": "2022-10-14T11:19:41.376Z"
   },
   {
    "duration": 6,
    "start_time": "2022-10-14T11:22:02.035Z"
   },
   {
    "duration": 13,
    "start_time": "2022-10-14T11:23:53.834Z"
   },
   {
    "duration": 9,
    "start_time": "2022-10-14T11:28:19.879Z"
   },
   {
    "duration": 4,
    "start_time": "2022-10-14T11:30:48.761Z"
   },
   {
    "duration": 5,
    "start_time": "2022-10-14T11:33:30.944Z"
   },
   {
    "duration": 5,
    "start_time": "2022-10-14T11:35:20.732Z"
   },
   {
    "duration": 6,
    "start_time": "2022-10-14T11:35:49.414Z"
   },
   {
    "duration": 6,
    "start_time": "2022-10-14T11:36:51.920Z"
   },
   {
    "duration": 6,
    "start_time": "2022-10-14T11:39:32.962Z"
   },
   {
    "duration": 6,
    "start_time": "2022-10-14T11:40:04.608Z"
   },
   {
    "duration": 6,
    "start_time": "2022-10-14T11:40:24.782Z"
   },
   {
    "duration": 6,
    "start_time": "2022-10-14T11:40:53.608Z"
   },
   {
    "duration": 991,
    "start_time": "2022-10-14T11:42:39.817Z"
   },
   {
    "duration": 20,
    "start_time": "2022-10-14T11:44:02.942Z"
   },
   {
    "duration": 6,
    "start_time": "2022-10-14T11:45:00.162Z"
   },
   {
    "duration": 1011,
    "start_time": "2022-10-14T11:45:11.864Z"
   },
   {
    "duration": 12,
    "start_time": "2022-10-14T11:45:55.881Z"
   },
   {
    "duration": 4,
    "start_time": "2022-10-14T11:46:42.945Z"
   },
   {
    "duration": 21,
    "start_time": "2022-10-14T11:46:49.109Z"
   },
   {
    "duration": 15,
    "start_time": "2022-10-14T11:46:55.365Z"
   },
   {
    "duration": 22,
    "start_time": "2022-10-14T11:46:57.160Z"
   },
   {
    "duration": 60,
    "start_time": "2022-10-14T11:47:01.123Z"
   },
   {
    "duration": 69,
    "start_time": "2022-10-14T11:47:04.704Z"
   },
   {
    "duration": 54,
    "start_time": "2022-10-14T11:47:06.175Z"
   },
   {
    "duration": 39,
    "start_time": "2022-10-14T11:47:09.427Z"
   },
   {
    "duration": 11,
    "start_time": "2022-10-14T11:47:14.367Z"
   },
   {
    "duration": 41,
    "start_time": "2022-10-14T11:47:16.019Z"
   },
   {
    "duration": 12,
    "start_time": "2022-10-14T11:47:25.511Z"
   },
   {
    "duration": 11,
    "start_time": "2022-10-14T11:47:30.070Z"
   },
   {
    "duration": 4,
    "start_time": "2022-10-14T11:47:33.986Z"
   },
   {
    "duration": 15,
    "start_time": "2022-10-14T11:47:37.404Z"
   },
   {
    "duration": 14,
    "start_time": "2022-10-14T11:47:37.911Z"
   },
   {
    "duration": 15,
    "start_time": "2022-10-14T11:47:38.414Z"
   },
   {
    "duration": 15,
    "start_time": "2022-10-14T11:47:38.955Z"
   },
   {
    "duration": 16,
    "start_time": "2022-10-14T11:47:39.486Z"
   },
   {
    "duration": 13,
    "start_time": "2022-10-14T11:47:40.080Z"
   },
   {
    "duration": 9,
    "start_time": "2022-10-14T11:47:43.962Z"
   },
   {
    "duration": 11,
    "start_time": "2022-10-14T11:47:50.111Z"
   },
   {
    "duration": 10,
    "start_time": "2022-10-14T11:47:50.726Z"
   },
   {
    "duration": 6,
    "start_time": "2022-10-14T11:47:53.919Z"
   },
   {
    "duration": 19,
    "start_time": "2022-10-14T11:47:58.204Z"
   },
   {
    "duration": 23,
    "start_time": "2022-10-14T11:48:09.914Z"
   },
   {
    "duration": 6,
    "start_time": "2022-10-14T11:48:36.986Z"
   },
   {
    "duration": 6,
    "start_time": "2022-10-14T11:52:49.143Z"
   },
   {
    "duration": 16,
    "start_time": "2022-10-14T11:52:51.537Z"
   },
   {
    "duration": 11,
    "start_time": "2022-10-14T11:53:08.272Z"
   },
   {
    "duration": 17,
    "start_time": "2022-10-14T11:53:12.430Z"
   },
   {
    "duration": 11,
    "start_time": "2022-10-14T11:53:13.618Z"
   },
   {
    "duration": 18,
    "start_time": "2022-10-14T11:56:36.842Z"
   },
   {
    "duration": 17,
    "start_time": "2022-10-14T11:56:55.505Z"
   },
   {
    "duration": 16,
    "start_time": "2022-10-14T11:58:22.946Z"
   },
   {
    "duration": 10,
    "start_time": "2022-10-14T11:59:33.805Z"
   },
   {
    "duration": 7,
    "start_time": "2022-10-14T12:00:32.274Z"
   },
   {
    "duration": 5,
    "start_time": "2022-10-14T12:00:45.905Z"
   },
   {
    "duration": 5,
    "start_time": "2022-10-14T12:01:47.373Z"
   },
   {
    "duration": 7,
    "start_time": "2022-10-14T12:02:03.489Z"
   },
   {
    "duration": 5,
    "start_time": "2022-10-14T12:02:12.509Z"
   },
   {
    "duration": 7,
    "start_time": "2022-10-14T12:02:38.485Z"
   },
   {
    "duration": 4,
    "start_time": "2022-10-14T12:02:40.610Z"
   },
   {
    "duration": 9,
    "start_time": "2022-10-14T12:02:52.466Z"
   },
   {
    "duration": 5,
    "start_time": "2022-10-14T12:04:05.926Z"
   },
   {
    "duration": 52,
    "start_time": "2023-05-04T07:05:19.093Z"
   }
  ],
  "colab": {
   "collapsed_sections": [
    "E0vqbgi9ay0H",
    "VUC88oWjTJw2"
   ],
   "name": "automatization_template_upd4.ipynb",
   "provenance": []
  },
  "kernelspec": {
   "display_name": "Python 3 (ipykernel)",
   "language": "python",
   "name": "python3"
  },
  "language_info": {
   "codemirror_mode": {
    "name": "ipython",
    "version": 3
   },
   "file_extension": ".py",
   "mimetype": "text/x-python",
   "name": "python",
   "nbconvert_exporter": "python",
   "pygments_lexer": "ipython3",
   "version": "3.11.4"
  },
  "toc": {
   "base_numbering": 1,
   "nav_menu": {
    "height": "215px",
    "width": "403px"
   },
   "number_sections": true,
   "sideBar": true,
   "skip_h1_title": true,
   "title_cell": "Table of Contents",
   "title_sidebar": "Contents",
   "toc_cell": false,
   "toc_position": {
    "height": "calc(100% - 180px)",
    "left": "10px",
    "top": "150px",
    "width": "285.825px"
   },
   "toc_section_display": true,
   "toc_window_display": false
  }
 },
 "nbformat": 4,
 "nbformat_minor": 1
}
